{
 "cells": [
  {
   "cell_type": "markdown",
   "id": "7b74d066",
   "metadata": {},
   "source": [
    "# Introdução a Ciência dos Dados - Atividade 2\n",
    "\n",
    "<span style=\"position: absolute; top: 10px; right: 10px; background: green; padding: 0.5em; color: white; border-radius: 0.25em; font-weight: bold\">Vaux Gomes</span>\n",
    "\n",
    "## Métodos de Análise Estatística dos Dados\n",
    "\n",
    "#### Bibliotecas"
   ]
  },
  {
   "cell_type": "code",
   "execution_count": 2,
   "id": "cda9da65",
   "metadata": {},
   "outputs": [],
   "source": [
    "# Imports\n",
    "import numpy as np\n",
    "import pandas as pd\n",
    "import matplotlib.pyplot as plt"
   ]
  },
  {
   "cell_type": "markdown",
   "id": "852227c9",
   "metadata": {},
   "source": [
    "#### Loading"
   ]
  },
  {
   "cell_type": "code",
   "execution_count": 6,
   "id": "554105fa",
   "metadata": {},
   "outputs": [
    {
     "data": {
      "text/plain": [
       "(1198, 17)"
      ]
     },
     "execution_count": 6,
     "metadata": {},
     "output_type": "execute_result"
    }
   ],
   "source": [
    "df = pd.read_csv('../data/iphone-olx-ce.csv', index_col=0)\n",
    "df.shape"
   ]
  },
  {
   "cell_type": "code",
   "execution_count": 10,
   "id": "d276d9eb",
   "metadata": {},
   "outputs": [],
   "source": [
    "columns = ['region', 'areaCode', 'eletronicsModel', 'storage', 'color', 'batteryHealth', 'eletronicsCondition']\n",
    "df[columns] = df[columns].astype('category')"
   ]
  },
  {
   "cell_type": "code",
   "execution_count": 11,
   "id": "e03c04fd",
   "metadata": {
    "scrolled": false
   },
   "outputs": [
    {
     "name": "stdout",
     "output_type": "stream",
     "text": [
      "<class 'pandas.core.frame.DataFrame'>\n",
      "Index: 1198 entries, 0 to 1531\n",
      "Data columns (total 17 columns):\n",
      " #   Column               Non-Null Count  Dtype   \n",
      "---  ------               --------------  -----   \n",
      " 0   adDate               1198 non-null   float64 \n",
      " 1   region               1198 non-null   category\n",
      " 2   zipcode              1198 non-null   int64   \n",
      " 3   areaCode             1198 non-null   category\n",
      " 4   category             1198 non-null   object  \n",
      " 5   paidPromotion        1198 non-null   bool    \n",
      " 6   subject              1198 non-null   object  \n",
      " 7   eletronicsModel      1198 non-null   category\n",
      " 8   storage              1198 non-null   category\n",
      " 9   color                1198 non-null   category\n",
      " 10  batteryHealth        1198 non-null   category\n",
      " 11  eletronicsCondition  1198 non-null   category\n",
      " 12  price                1198 non-null   float64 \n",
      " 13  pictures             1198 non-null   float64 \n",
      " 14  sellerName           1198 non-null   object  \n",
      " 15  storageGB            1198 non-null   int64   \n",
      " 16  subjectLength        1198 non-null   int64   \n",
      "dtypes: bool(1), category(7), float64(3), int64(3), object(3)\n",
      "memory usage: 107.1+ KB\n"
     ]
    }
   ],
   "source": [
    "df.info()"
   ]
  },
  {
   "cell_type": "markdown",
   "id": "ab685699",
   "metadata": {},
   "source": [
    "#### Adjustando Data"
   ]
  },
  {
   "cell_type": "code",
   "execution_count": 20,
   "id": "7a295ca5",
   "metadata": {},
   "outputs": [],
   "source": [
    "df.adDate = pd.to_datetime(df.adDate, unit='s')"
   ]
  },
  {
   "cell_type": "markdown",
   "id": "f8e0fbaf",
   "metadata": {},
   "source": [
    "### Medidas de Tendência Central"
   ]
  },
  {
   "cell_type": "code",
   "execution_count": null,
   "id": "a63d1c21",
   "metadata": {},
   "outputs": [],
   "source": []
  },
  {
   "cell_type": "markdown",
   "id": "23999788",
   "metadata": {},
   "source": [
    "### Medidas de Variabilidade"
   ]
  },
  {
   "cell_type": "code",
   "execution_count": null,
   "id": "f6a98064",
   "metadata": {},
   "outputs": [],
   "source": []
  },
  {
   "cell_type": "markdown",
   "id": "ee6e0438",
   "metadata": {},
   "source": [
    "### Tabela de Frequência e Histograma"
   ]
  },
  {
   "cell_type": "code",
   "execution_count": null,
   "id": "a853d092",
   "metadata": {},
   "outputs": [],
   "source": []
  },
  {
   "cell_type": "markdown",
   "id": "e965fdef",
   "metadata": {},
   "source": [
    "### Boxplot"
   ]
  },
  {
   "cell_type": "code",
   "execution_count": null,
   "id": "056bb489",
   "metadata": {},
   "outputs": [],
   "source": []
  },
  {
   "cell_type": "markdown",
   "id": "bd7c3a81",
   "metadata": {},
   "source": [
    "### QQ-Plot"
   ]
  },
  {
   "cell_type": "code",
   "execution_count": null,
   "id": "e9ca6854",
   "metadata": {},
   "outputs": [],
   "source": []
  },
  {
   "cell_type": "markdown",
   "id": "ad2f2d7d",
   "metadata": {},
   "source": [
    "### Correlações"
   ]
  },
  {
   "cell_type": "code",
   "execution_count": null,
   "id": "e8d64e48",
   "metadata": {},
   "outputs": [],
   "source": []
  },
  {
   "cell_type": "markdown",
   "id": "1b995f6e",
   "metadata": {},
   "source": [
    "### Teste de Normalidade"
   ]
  },
  {
   "cell_type": "code",
   "execution_count": null,
   "id": "31926439",
   "metadata": {},
   "outputs": [],
   "source": []
  },
  {
   "cell_type": "markdown",
   "id": "29da5295",
   "metadata": {},
   "source": [
    "### Best Fit Distribution "
   ]
  },
  {
   "cell_type": "code",
   "execution_count": null,
   "id": "990586aa",
   "metadata": {},
   "outputs": [],
   "source": []
  }
 ],
 "metadata": {
  "kernelspec": {
   "display_name": "Python 3 (ipykernel)",
   "language": "python",
   "name": "python3"
  },
  "language_info": {
   "codemirror_mode": {
    "name": "ipython",
    "version": 3
   },
   "file_extension": ".py",
   "mimetype": "text/x-python",
   "name": "python",
   "nbconvert_exporter": "python",
   "pygments_lexer": "ipython3",
   "version": "3.8.10"
  }
 },
 "nbformat": 4,
 "nbformat_minor": 5
}
