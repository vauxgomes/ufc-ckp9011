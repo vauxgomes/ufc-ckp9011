{
 "cells": [
  {
   "cell_type": "markdown",
   "id": "7b74d066",
   "metadata": {},
   "source": [
    "# Introdução a Ciência dos Dados - Atividade 3\n",
    "\n",
    "<span style=\"position: absolute; top: 10px; right: 10px; background: green; padding: 0.5em; color: white; border-radius: 0.25em; font-weight: bold\">Vaux Gomes</span>\n",
    "\n",
    "## Introdução\n",
    "\n",
    "Para os dados que possuo duas tarefas são possíveis:\n",
    "- Regressão: Predizer o valor dos aparelhos com base nos atributos\n",
    "- Classificação: Predizer o modelo do aparelho com base nos atributos\n",
    "\n",
    "Para cada uma das tarefas vamos usar 3 diferentes algoritmos e compará-los\n",
    "\n",
    "#### Bibliotecas"
   ]
  },
  {
   "cell_type": "code",
   "execution_count": 1,
   "id": "cda9da65",
   "metadata": {},
   "outputs": [],
   "source": [
    "# Imports\n",
    "import numpy as np\n",
    "import pandas as pd\n",
    "\n",
    "# Regression\n",
    "from sklearn.linear_model import LinearRegression\n",
    "from sklearn.tree import DecisionTreeRegressor\n",
    "from sklearn.svm import SVR\n",
    "\n",
    "# Regression metrics\n",
    "from sklearn.metrics import mean_squared_error as mse\n",
    "\n",
    "# Classification\n",
    "from sklearn.linear_model import SGDClassifier\n",
    "from sklearn.neighbors import KNeighborsClassifier\n",
    "from sklearn.svm import SVC\n",
    "from sklearn.tree import DecisionTreeClassifier\n",
    "from sklearn.ensemble import RandomForestClassifier\n",
    "\n",
    "# Classification Metrics\n",
    "from sklearn.metrics import f1_score\n",
    "from sklearn.metrics import accuracy_score\n",
    "\n",
    "# Data transformation\n",
    "from sklearn.preprocessing import OneHotEncoder\n",
    "from sklearn.preprocessing import LabelEncoder\n",
    "# from sklearn.preprocessing import StandardScaler\n",
    "\n",
    "# Tunning & Split\n",
    "from sklearn.model_selection import train_test_split\n",
    "from sklearn.model_selection import GridSearchCV\n",
    "\n",
    "# Others\n",
    "import time\n",
    "import warnings\n",
    "warnings.filterwarnings('ignore')\n",
    "\n",
    "# from tabulate import tabulate"
   ]
  },
  {
   "cell_type": "code",
   "execution_count": 2,
   "metadata": {},
   "outputs": [],
   "source": [
    "# Timed Experiment\n",
    "def timed_experiment(clf, X, y):\n",
    "  start = time.time()\n",
    "  clf.fit(X, y)\n",
    "  end = time.time()\n",
    "\n",
    "  print(f'Experiment time: {end - start:.2f}')\n",
    "  \n",
    "  return clf\n"
   ]
  },
  {
   "cell_type": "markdown",
   "id": "852227c9",
   "metadata": {},
   "source": [
    "#### Loading"
   ]
  },
  {
   "cell_type": "code",
   "execution_count": 3,
   "id": "554105fa",
   "metadata": {},
   "outputs": [
    {
     "name": "stdout",
     "output_type": "stream",
     "text": [
      "Shape: (1194, 20)\n",
      "Columns: Index(['adDate', 'region', 'zipcode', 'areaCode', 'category', 'paidPromotion',\n",
      "       'subject', 'eletronicsModel', 'storage', 'color', 'batteryHealth',\n",
      "       'eletronicsCondition', 'price', 'pictures', 'sellerName', 'storageGB',\n",
      "       'subjectLength', 'picturesPerc', 'modelOrder', 'macroRegion'],\n",
      "      dtype='object')\n"
     ]
    }
   ],
   "source": [
    "df = pd.read_csv('../data/iphone-olx-ce-ft-eng.csv')\n",
    "\n",
    "print(f'Shape: {df.shape}')\n",
    "print(f'Columns: {df.columns}')"
   ]
  },
  {
   "cell_type": "markdown",
   "id": "ec579dfb",
   "metadata": {},
   "source": [
    "#### Preparação dos dados"
   ]
  },
  {
   "cell_type": "code",
   "execution_count": 4,
   "id": "cb37cf9b",
   "metadata": {},
   "outputs": [],
   "source": [
    "# Dropping\n",
    "df = df.drop(columns=['adDate', 'region', 'zipcode', 'areaCode', 'category', 'subject', 'storage', 'sellerName', 'picturesPerc', 'modelOrder'])\n",
    "df_ = df.copy()"
   ]
  },
  {
   "cell_type": "code",
   "execution_count": 5,
   "id": "d50d201e",
   "metadata": {},
   "outputs": [],
   "source": [
    "# Categorical Features Labeling\n",
    "le = LabelEncoder()\n",
    "\n",
    "for col in ['paidPromotion', 'eletronicsModel', 'color', 'batteryHealth', 'eletronicsCondition', 'macroRegion']:\n",
    "  df[col] = le.fit_transform(df[col])"
   ]
  },
  {
   "cell_type": "markdown",
   "id": "2d5c638c",
   "metadata": {},
   "source": [
    "## Tarefa de Regressão"
   ]
  },
  {
   "cell_type": "code",
   "execution_count": 6,
   "id": "d72deff2",
   "metadata": {},
   "outputs": [],
   "source": [
    "X = df.drop(columns='price').values\n",
    "y = df['price'].values"
   ]
  },
  {
   "cell_type": "markdown",
   "id": "fdeb9b2e",
   "metadata": {},
   "source": [
    "#### Split inicial\n",
    "\n",
    "- 70% Training\n",
    "- 30% Testing"
   ]
  },
  {
   "cell_type": "code",
   "execution_count": 7,
   "id": "5e071838",
   "metadata": {},
   "outputs": [
    {
     "name": "stdout",
     "output_type": "stream",
     "text": [
      "Train X: (835, 9), y: (835,)\n",
      " Test X: (359, 9), y: (359,)\n"
     ]
    }
   ],
   "source": [
    "X_train, X_test, y_train, y_test = \\\n",
    "  train_test_split(X, y, test_size=0.3, random_state=42)\n",
    "\n",
    "print(f'Train X: {X_train.shape}, y: {y_train.shape}')\n",
    "print(f' Test X: {X_test.shape}, y: {y_test.shape}')"
   ]
  },
  {
   "cell_type": "markdown",
   "id": "dfb61131",
   "metadata": {},
   "source": [
    "#### Linear Regression (LR)"
   ]
  },
  {
   "cell_type": "code",
   "execution_count": 8,
   "id": "a2aa81fc",
   "metadata": {},
   "outputs": [
    {
     "name": "stdout",
     "output_type": "stream",
     "text": [
      "Experiment time: 0.00\n"
     ]
    }
   ],
   "source": [
    "lr = LinearRegression() # Não paramétrico\n",
    "lr = timed_experiment(lr, X_train, y_train)\n",
    "lr_pred = lr.predict(X_test)"
   ]
  },
  {
   "cell_type": "markdown",
   "id": "5a5cda9a",
   "metadata": {},
   "source": [
    "#### Decision Tree Regressor (DTR)"
   ]
  },
  {
   "cell_type": "code",
   "execution_count": 9,
   "id": "3d95f640",
   "metadata": {},
   "outputs": [
    {
     "name": "stdout",
     "output_type": "stream",
     "text": [
      "Experiment time: 0.88\n"
     ]
    }
   ],
   "source": [
    "dtr = GridSearchCV(\n",
    "  estimator=DecisionTreeRegressor(), \n",
    "  param_grid={\n",
    "    'criterion': ['squared_error', 'friedman_mse', 'absolute_error'],\n",
    "    'splitter': ['best', 'random'],\n",
    "    'max_depth': [None, 2, 5, 10]\n",
    "  },\n",
    "  cv=10,\n",
    "  refit=True,\n",
    "  n_jobs=4,\n",
    "  scoring='neg_mean_squared_error'\n",
    ")\n",
    "\n",
    "dtr = timed_experiment(dtr, X_train, y_train)\n",
    "dtr_pred = dtr.predict(X_test)"
   ]
  },
  {
   "cell_type": "markdown",
   "id": "2c92da87",
   "metadata": {},
   "source": [
    "#### Support Vector Regression (SVR)"
   ]
  },
  {
   "cell_type": "code",
   "execution_count": 10,
   "id": "da4bd809",
   "metadata": {},
   "outputs": [
    {
     "name": "stdout",
     "output_type": "stream",
     "text": [
      "Experiment time: 1.56\n"
     ]
    }
   ],
   "source": [
    "svr = GridSearchCV(\n",
    "  estimator=SVR(), \n",
    "  param_grid={\n",
    "    'gamma': ['auto', 'scale', 10^-3, 10^-1, 10, 10^3, 10^5],\n",
    "    'C': [1, 2, 3, 4, 5]\n",
    "  },\n",
    "  cv=10,\n",
    "  refit=True,\n",
    "  n_jobs=4,\n",
    "  scoring='neg_mean_squared_error'\n",
    ")\n",
    "\n",
    "svr = timed_experiment(svr, X_train, y_train)\n",
    "svr_pred = svr.predict(X_test)"
   ]
  },
  {
   "cell_type": "markdown",
   "id": "76243b07",
   "metadata": {},
   "source": [
    "### Resultados"
   ]
  },
  {
   "cell_type": "code",
   "execution_count": 19,
   "id": "a2476279",
   "metadata": {},
   "outputs": [
    {
     "name": "stdout",
     "output_type": "stream",
     "text": [
      "Root Mean Squared Error\n",
      "----------------------------------------\n",
      "LR:  261.53\n",
      "DTR: 269.20\n",
      "SVR: 682.87\n"
     ]
    }
   ],
   "source": [
    "print('Root Mean Squared Error')\n",
    "print('-'*40)\n",
    "print(f'LR:  {mse(y_test, lr_pred,  squared=False):.2f}')\n",
    "print(f'DTR: {mse(y_test, dtr_pred, squared=False):.2f}')\n",
    "print(f'SVR: {mse(y_test, svr_pred, squared=False):.2f}')"
   ]
  },
  {
   "cell_type": "markdown",
   "id": "7ea3ef29",
   "metadata": {},
   "source": [
    "---"
   ]
  },
  {
   "cell_type": "markdown",
   "id": "61524a25",
   "metadata": {},
   "source": [
    "## Tarefa de Classificação"
   ]
  },
  {
   "cell_type": "code",
   "execution_count": 22,
   "id": "58b1fc97",
   "metadata": {},
   "outputs": [],
   "source": [
    "df = df[df['eletronicsModel'].isin(['IPHONE 11', 'IPHONE XR', 'IPHONE 8 PLUS', 'IPHONE 7', 'IPHONE 7 PLUS'])]"
   ]
  },
  {
   "cell_type": "code",
   "execution_count": 12,
   "id": "d276d9eb",
   "metadata": {},
   "outputs": [
    {
     "data": {
      "text/plain": [
       "Index(['price', 'pictures', 'storageGB', 'subjectLength',\n",
       "       'paidPromotion_False', 'paidPromotion_True',\n",
       "       'eletronicsModel_IPHONE 11', 'eletronicsModel_IPHONE 7',\n",
       "       'eletronicsModel_IPHONE 7 PLUS', 'eletronicsModel_IPHONE 8 PLUS',\n",
       "       'eletronicsModel_IPHONE XR', 'color_Amarelo', 'color_Azul',\n",
       "       'color_Branco', 'color_Bronze', 'color_Cinza', 'color_Dourado',\n",
       "       'color_Laranja', 'color_Outra', 'color_Prata', 'color_Preto',\n",
       "       'color_Rosa', 'color_Roxo', 'color_Verde', 'color_Vermelho',\n",
       "       'batteryHealth_Boa (80% até 94%)', 'batteryHealth_OK (60% até 79%)',\n",
       "       'batteryHealth_Perfeita (95% até 100%)',\n",
       "       'batteryHealth_Ruim (40% até 59%)', 'eletronicsCondition_Com defeito',\n",
       "       'eletronicsCondition_Novo', 'eletronicsCondition_Recondicionado',\n",
       "       'eletronicsCondition_Usado - Bom',\n",
       "       'eletronicsCondition_Usado - Excelente', 'macroRegion_Cariri',\n",
       "       'macroRegion_Fortaleza', 'macroRegion_Litoral Leste',\n",
       "       'macroRegion_Norte', 'macroRegion_Sertão Central'],\n",
       "      dtype='object')"
      ]
     },
     "execution_count": 12,
     "metadata": {},
     "output_type": "execute_result"
    }
   ],
   "source": [
    "df = pd.get_dummies(df, columns=['paidPromotion', 'eletronicsModel', 'color', \n",
    "  'batteryHealth', 'eletronicsCondition', 'macroRegion'])\n",
    "\n",
    "df.columns"
   ]
  },
  {
   "cell_type": "code",
   "execution_count": 57,
   "id": "346eb25f",
   "metadata": {},
   "outputs": [],
   "source": [
    "X = df.drop(columns=[\n",
    "  #'eletronicsModel',\n",
    "  'eletronicsModel_IPHONE 11', 'eletronicsModel_IPHONE 11 PRO',\n",
    "  'eletronicsModel_IPHONE 11 PRO MAX', 'eletronicsModel_IPHONE 12',\n",
    "  'eletronicsModel_IPHONE 12 MINI', 'eletronicsModel_IPHONE 12 PRO',\n",
    "  'eletronicsModel_IPHONE 12 PRO MAX', 'eletronicsModel_IPHONE 13',\n",
    "  'eletronicsModel_IPHONE 13 MINI', 'eletronicsModel_IPHONE 13 PRO',\n",
    "  'eletronicsModel_IPHONE 13 PRO MAX', 'eletronicsModel_IPHONE 14',\n",
    "  'eletronicsModel_IPHONE 14 PLUS', 'eletronicsModel_IPHONE 14 PRO',\n",
    "  'eletronicsModel_IPHONE 14 PRO MAX', 'eletronicsModel_IPHONE 6',\n",
    "  'eletronicsModel_IPHONE 6S', 'eletronicsModel_IPHONE 6S PLUS',\n",
    "  'eletronicsModel_IPHONE 7', 'eletronicsModel_IPHONE 7 PLUS',\n",
    "  'eletronicsModel_IPHONE 8', 'eletronicsModel_IPHONE 8 PLUS',\n",
    "  'eletronicsModel_IPHONE SE 2020', 'eletronicsModel_IPHONE X',\n",
    "  'eletronicsModel_IPHONE XR', 'eletronicsModel_IPHONE XS',\n",
    "  'eletronicsModel_IPHONE XS MAX'\n",
    "]).values\n",
    "\n",
    "# Categorical Features Labeling\n",
    "le = LabelEncoder()\n",
    "y = le.fit_transform(classes)"
   ]
  },
  {
   "cell_type": "markdown",
   "id": "01df0b5f",
   "metadata": {},
   "source": [
    "#### Split inicial\n",
    "\n",
    "- 70% Training\n",
    "- 30% Testing"
   ]
  },
  {
   "cell_type": "code",
   "execution_count": 58,
   "id": "98877813",
   "metadata": {},
   "outputs": [
    {
     "name": "stdout",
     "output_type": "stream",
     "text": [
      "Train X: (835, 34), y: (835,)\n",
      " Test X: (359, 34), y: (359,)\n"
     ]
    }
   ],
   "source": [
    "X_train, X_test, y_train, y_test = \\\n",
    "  train_test_split(X, y, test_size=0.3, random_state=42)\n",
    "\n",
    "print(f'Train X: {X_train.shape}, y: {y_train.shape}')\n",
    "print(f' Test X: {X_test.shape}, y: {y_test.shape}')"
   ]
  },
  {
   "cell_type": "markdown",
   "id": "b646ace5",
   "metadata": {},
   "source": [
    "#### SGDClassifier (SGD)"
   ]
  },
  {
   "cell_type": "code",
   "execution_count": 59,
   "id": "92cdbd83",
   "metadata": {},
   "outputs": [
    {
     "name": "stdout",
     "output_type": "stream",
     "text": [
      "Experiment time: 4.62\n"
     ]
    }
   ],
   "source": [
    "sgd = GridSearchCV(\n",
    "  estimator=SGDClassifier(), \n",
    "  param_grid={\n",
    "    'loss': ['log_loss', 'squared_error', 'hinge'],\n",
    "    'penalty': ['l2', 'l1', 'elasticnet'],\n",
    "    'learning_rate': ['optimal'],\n",
    "    'random_state': [42],\n",
    "    'average': [0]\n",
    "  },\n",
    "  cv=10,\n",
    "  refit=True,\n",
    "  n_jobs=4,\n",
    "  scoring='f1_macro'\n",
    ")\n",
    "\n",
    "sgd = timed_experiment(sgd, X_train, y_train)\n",
    "sgd_pred = sgd.predict(X_test)"
   ]
  },
  {
   "cell_type": "markdown",
   "id": "0b9e3279",
   "metadata": {},
   "source": [
    "#### KNeighborsClassifier (KNN)"
   ]
  },
  {
   "cell_type": "code",
   "execution_count": 61,
   "id": "0c876c99",
   "metadata": {},
   "outputs": [
    {
     "name": "stdout",
     "output_type": "stream",
     "text": [
      "Experiment time: 1.64\n"
     ]
    }
   ],
   "source": [
    "knn = GridSearchCV(\n",
    "  estimator=KNeighborsClassifier(), \n",
    "  param_grid={\n",
    "    'n_neighbors': [2**i + 1 for i in range(10)],\n",
    "    'metric': ['euclidean', 'manhattan', 'cosine', 'nan_euclidean'],\n",
    "  },\n",
    "  cv=10,\n",
    "  refit=True,\n",
    "  n_jobs=4,\n",
    "  scoring='f1_macro'\n",
    ")\n",
    "\n",
    "knn = timed_experiment(knn, X_train, y_train)\n",
    "knn_pred = knn.predict(X_test)"
   ]
  },
  {
   "cell_type": "markdown",
   "id": "894c9d12",
   "metadata": {},
   "source": [
    "#### Support Vector Machine Classifier (SVC)"
   ]
  },
  {
   "cell_type": "code",
   "execution_count": 62,
   "id": "b91291ee",
   "metadata": {},
   "outputs": [
    {
     "name": "stdout",
     "output_type": "stream",
     "text": [
      "Experiment time: 5.23\n"
     ]
    }
   ],
   "source": [
    "svc = GridSearchCV(\n",
    "  estimator=SVC(), \n",
    "  param_grid={\n",
    "    'gamma': ['auto', 'scale', 10^-3, 10^-1, 10, 10^3, 10^5],\n",
    "    'C': [1, 2, 3, 4, 5]\n",
    "  },\n",
    "  cv=10,\n",
    "  refit=True,\n",
    "  n_jobs=4,\n",
    "  scoring='f1_macro'\n",
    ")\n",
    "\n",
    "svc = timed_experiment(svc, X_train, y_train)\n",
    "svc_pred = svc.predict(X_test)"
   ]
  },
  {
   "cell_type": "markdown",
   "id": "c74a484d",
   "metadata": {},
   "source": [
    "#### Decision Tree Classifier (DTC)"
   ]
  },
  {
   "cell_type": "code",
   "execution_count": 63,
   "id": "4c5fb1a3",
   "metadata": {},
   "outputs": [
    {
     "name": "stdout",
     "output_type": "stream",
     "text": [
      "Experiment time: 0.32\n"
     ]
    }
   ],
   "source": [
    "dtc = GridSearchCV(\n",
    "  estimator=DecisionTreeClassifier(), \n",
    "  param_grid={\n",
    "    'criterion': ['gini', 'entropy', 'log_loss'],\n",
    "    'splitter': ['best', 'random'],\n",
    "    'max_depth': [None, 2, 5, 10]\n",
    "  },\n",
    "  cv=10,\n",
    "  refit=True,\n",
    "  n_jobs=4,\n",
    "  scoring='f1_macro'\n",
    ")\n",
    "\n",
    "dtc = timed_experiment(dtc, X_train, y_train)\n",
    "dtc_pred = dtc.predict(X_test)"
   ]
  },
  {
   "cell_type": "markdown",
   "id": "c85fdfb7",
   "metadata": {},
   "source": [
    "#### Random Forest Classifier (RF)"
   ]
  },
  {
   "cell_type": "code",
   "execution_count": 64,
   "id": "ae840ffa",
   "metadata": {},
   "outputs": [
    {
     "name": "stdout",
     "output_type": "stream",
     "text": [
      "Experiment time: 56.23\n"
     ]
    }
   ],
   "source": [
    "rf = GridSearchCV(\n",
    "  estimator=RandomForestClassifier(), \n",
    "  param_grid={\n",
    "    'n_estimators': [10**i for i in range(1, 4)],\n",
    "    'criterion': ['gini', 'entropy', 'log_loss'],\n",
    "    'max_depth': [None, 2, 5, 10]\n",
    "  },\n",
    "  cv=10,\n",
    "  refit=True,\n",
    "  n_jobs=4,\n",
    "  scoring='f1_macro'\n",
    ")\n",
    "\n",
    "rf = timed_experiment(rf, X_train, y_train)\n",
    "rf_pred = rf.predict(X_test)"
   ]
  },
  {
   "cell_type": "markdown",
   "id": "52967941",
   "metadata": {},
   "source": [
    "### Resultados"
   ]
  },
  {
   "cell_type": "code",
   "execution_count": 65,
   "id": "d0b0ff2e",
   "metadata": {},
   "outputs": [
    {
     "name": "stdout",
     "output_type": "stream",
     "text": [
      "========================================\n",
      "Accuracy Score\n",
      "----------------------------------------\n",
      "SGD: 0.1337\n",
      "KNN: 0.5404\n",
      "SVC: 0.4596\n",
      "DTC: 0.5487\n",
      "RF:  0.5599\n",
      "\n",
      "========================================\n",
      "F1 Score\n",
      "----------------------------------------\n",
      "SGD: 0.0190\n",
      "KNN: 0.3206\n",
      "SVC: 0.2526\n",
      "DTC: 0.3666\n",
      "RF:  0.3402\n"
     ]
    }
   ],
   "source": [
    "print('='*40)\n",
    "print('Accuracy Score')\n",
    "print('-'*40)\n",
    "print(f'SGD: {accuracy_score(y_test, sgd_pred):.4f}')\n",
    "print(f'KNN: {accuracy_score(y_test, knn_pred):.4f}')\n",
    "print(f'SVC: {accuracy_score(y_test, svc_pred):.4f}')\n",
    "print(f'DTC: {accuracy_score(y_test, dtc_pred):.4f}')\n",
    "print(f'RF:  {accuracy_score(y_test, rf_pred):.4f}')\n",
    "\n",
    "print('')\n",
    "print('='*40)\n",
    "\n",
    "print('F1 Score')\n",
    "print('-'*40)\n",
    "print(f'SGD: {f1_score(y_test, sgd_pred,  average=\"macro\"):.4f}')\n",
    "print(f'KNN: {f1_score(y_test, knn_pred, average=\"macro\"):.4f}')\n",
    "print(f'SVC: {f1_score(y_test, svc_pred, average=\"macro\"):.4f}')\n",
    "print(f'DTC: {f1_score(y_test, dtc_pred, average=\"macro\"):.4f}')\n",
    "print(f'RF:  {f1_score(y_test, rf_pred, average=\"macro\"):.4f}')"
   ]
  }
 ],
 "metadata": {
  "kernelspec": {
   "display_name": "Python 3 (ipykernel)",
   "language": "python",
   "name": "python3"
  },
  "language_info": {
   "codemirror_mode": {
    "name": "ipython",
    "version": 3
   },
   "file_extension": ".py",
   "mimetype": "text/x-python",
   "name": "python",
   "nbconvert_exporter": "python",
   "pygments_lexer": "ipython3",
   "version": "3.8.10"
  }
 },
 "nbformat": 4,
 "nbformat_minor": 5
}
