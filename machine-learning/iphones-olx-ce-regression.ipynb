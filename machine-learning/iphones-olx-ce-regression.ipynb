{
 "cells": [
  {
   "cell_type": "markdown",
   "id": "7b74d066",
   "metadata": {},
   "source": [
    "# Introdução a Ciência dos Dados - Atividade 3\n",
    "\n",
    "<span style=\"position: absolute; top: 10px; right: 10px; background: green; padding: 0.5em; color: white; border-radius: 0.25em; font-weight: bold\">Vaux Gomes</span>\n",
    "\n",
    "#### Bibliotecas"
   ]
  },
  {
   "cell_type": "code",
   "execution_count": 1,
   "id": "cda9da65",
   "metadata": {},
   "outputs": [],
   "source": [
    "# Imports\n",
    "import numpy as np\n",
    "import pandas as pd\n",
    "\n",
    "# Regression\n",
    "from sklearn.linear_model import LinearRegression\n",
    "from sklearn.tree import DecisionTreeRegressor\n",
    "from sklearn.svm import SVR\n",
    "\n",
    "# Regression metrics\n",
    "from sklearn.metrics import mean_squared_error as mse\n",
    "\n",
    "# Data transformation\n",
    "from sklearn.preprocessing import OneHotEncoder\n",
    "from imblearn.under_sampling import RandomUnderSampler\n",
    "from imblearn.over_sampling import RandomOverSampler\n",
    "\n",
    "\n",
    "# Tunning & Split\n",
    "from sklearn.model_selection import train_test_split\n",
    "from sklearn.model_selection import GridSearchCV\n",
    "\n",
    "# Others\n",
    "import time\n",
    "\n",
    "import warnings\n",
    "warnings.filterwarnings('ignore')\n",
    "\n",
    "from tabulate import tabulate"
   ]
  },
  {
   "cell_type": "code",
   "execution_count": 2,
   "id": "f34725a7",
   "metadata": {},
   "outputs": [],
   "source": [
    "# Timed Experiment\n",
    "def timed_experiment(clf, X, y):\n",
    "  start = time.time()\n",
    "  clf.fit(X, y)\n",
    "  end = time.time()\n",
    "\n",
    "  print(f'Experiment time: {end - start:.2f}')\n",
    "  \n",
    "  return clf"
   ]
  },
  {
   "cell_type": "markdown",
   "id": "852227c9",
   "metadata": {},
   "source": [
    "#### Loading"
   ]
  },
  {
   "cell_type": "code",
   "execution_count": 3,
   "id": "554105fa",
   "metadata": {},
   "outputs": [
    {
     "name": "stdout",
     "output_type": "stream",
     "text": [
      "Shape: (1194, 20)\n",
      "Columns: Index(['adDate', 'region', 'zipcode', 'areaCode', 'category', 'paidPromotion',\n",
      "       'subject', 'eletronicsModel', 'storage', 'color', 'batteryHealth',\n",
      "       'eletronicsCondition', 'price', 'pictures', 'sellerName', 'storageGB',\n",
      "       'subjectLength', 'picturesPerc', 'modelOrder', 'macroRegion'],\n",
      "      dtype='object')\n"
     ]
    }
   ],
   "source": [
    "df = pd.read_csv('../data/iphone-olx-ce-ft-eng.csv')\n",
    "\n",
    "print(f'Shape: {df.shape}')\n",
    "print(f'Columns: {df.columns}')"
   ]
  },
  {
   "cell_type": "markdown",
   "id": "ec579dfb",
   "metadata": {},
   "source": [
    "#### Preparação das colunas"
   ]
  },
  {
   "cell_type": "code",
   "execution_count": 4,
   "id": "cb37cf9b",
   "metadata": {},
   "outputs": [
    {
     "data": {
      "text/plain": [
       "Index(['price', 'pictures', 'storageGB', 'subjectLength',\n",
       "       'paidPromotion_False', 'paidPromotion_True',\n",
       "       'eletronicsModel_IPHONE 11', 'eletronicsModel_IPHONE 11 PRO',\n",
       "       'eletronicsModel_IPHONE 11 PRO MAX', 'eletronicsModel_IPHONE 12',\n",
       "       'eletronicsModel_IPHONE 12 MINI', 'eletronicsModel_IPHONE 12 PRO',\n",
       "       'eletronicsModel_IPHONE 12 PRO MAX', 'eletronicsModel_IPHONE 13',\n",
       "       'eletronicsModel_IPHONE 13 MINI', 'eletronicsModel_IPHONE 13 PRO',\n",
       "       'eletronicsModel_IPHONE 13 PRO MAX', 'eletronicsModel_IPHONE 14',\n",
       "       'eletronicsModel_IPHONE 14 PLUS', 'eletronicsModel_IPHONE 14 PRO',\n",
       "       'eletronicsModel_IPHONE 14 PRO MAX', 'eletronicsModel_IPHONE 6',\n",
       "       'eletronicsModel_IPHONE 6S', 'eletronicsModel_IPHONE 6S PLUS',\n",
       "       'eletronicsModel_IPHONE 7', 'eletronicsModel_IPHONE 7 PLUS',\n",
       "       'eletronicsModel_IPHONE 8', 'eletronicsModel_IPHONE 8 PLUS',\n",
       "       'eletronicsModel_IPHONE SE 2020', 'eletronicsModel_IPHONE X',\n",
       "       'eletronicsModel_IPHONE XR', 'eletronicsModel_IPHONE XS',\n",
       "       'eletronicsModel_IPHONE XS MAX', 'color_Amarelo', 'color_Azul',\n",
       "       'color_Branco', 'color_Bronze', 'color_Cinza', 'color_Dourado',\n",
       "       'color_Laranja', 'color_Outra', 'color_Prata', 'color_Preto',\n",
       "       'color_Rosa', 'color_Roxo', 'color_Verde', 'color_Vermelho',\n",
       "       'batteryHealth_Boa (80% até 94%)', 'batteryHealth_OK (60% até 79%)',\n",
       "       'batteryHealth_Perfeita (95% até 100%)',\n",
       "       'batteryHealth_Ruim (40% até 59%)', 'eletronicsCondition_Com defeito',\n",
       "       'eletronicsCondition_Novo', 'eletronicsCondition_Recondicionado',\n",
       "       'eletronicsCondition_Usado - Bom',\n",
       "       'eletronicsCondition_Usado - Excelente', 'macroRegion_Cariri',\n",
       "       'macroRegion_Fortaleza', 'macroRegion_Litoral Leste',\n",
       "       'macroRegion_Norte', 'macroRegion_Sertão Central'],\n",
       "      dtype='object')"
      ]
     },
     "execution_count": 4,
     "metadata": {},
     "output_type": "execute_result"
    }
   ],
   "source": [
    "# Dropping\n",
    "df = df.drop(columns=['adDate', 'region', 'zipcode', 'areaCode', 'category', 'subject', 'storage', 'sellerName', 'picturesPerc', 'modelOrder'])\n",
    "\n",
    "# Copy\n",
    "df_ = df.copy()\n",
    "\n",
    "# Columns Dummies\n",
    "df = pd.get_dummies(df, columns=['paidPromotion', 'eletronicsModel', 'color', \n",
    "  'batteryHealth', 'eletronicsCondition', 'macroRegion'])\n",
    "\n",
    "df.columns"
   ]
  },
  {
   "cell_type": "markdown",
   "id": "2d5c638c",
   "metadata": {},
   "source": [
    "## Tarefa de Regressão"
   ]
  },
  {
   "cell_type": "code",
   "execution_count": 5,
   "id": "d72deff2",
   "metadata": {},
   "outputs": [
    {
     "name": "stdout",
     "output_type": "stream",
     "text": [
      "(1194, 60) (1194,)\n"
     ]
    }
   ],
   "source": [
    "X = df.drop(columns='price').values\n",
    "y = df['price'].values\n",
    "\n",
    "print(X.shape, y.shape)"
   ]
  },
  {
   "cell_type": "markdown",
   "id": "fdeb9b2e",
   "metadata": {},
   "source": [
    "#### Split inicial\n",
    "\n",
    "- 70% Training\n",
    "- 30% Testing"
   ]
  },
  {
   "cell_type": "code",
   "execution_count": 6,
   "id": "5e071838",
   "metadata": {},
   "outputs": [
    {
     "name": "stdout",
     "output_type": "stream",
     "text": [
      "Train X: (835, 60), y: (835,)\n",
      " Test X: (359, 60), y: (359,)\n"
     ]
    }
   ],
   "source": [
    "X_train, X_test, y_train, y_test = \\\n",
    "  train_test_split(X, y, test_size=0.3, random_state=42)\n",
    "\n",
    "print(f'Train X: {X_train.shape}, y: {y_train.shape}')\n",
    "print(f' Test X: {X_test.shape}, y: {y_test.shape}')"
   ]
  },
  {
   "cell_type": "markdown",
   "id": "dfb61131",
   "metadata": {},
   "source": [
    "#### Linear Regression (LR)"
   ]
  },
  {
   "cell_type": "code",
   "execution_count": 7,
   "id": "a2aa81fc",
   "metadata": {},
   "outputs": [
    {
     "name": "stdout",
     "output_type": "stream",
     "text": [
      "Experiment time: 0.01\n"
     ]
    }
   ],
   "source": [
    "lr = LinearRegression() # Não paramétrico\n",
    "lr = timed_experiment(lr, X_train, y_train)\n",
    "lr_pred = lr.predict(X_test)\n",
    "\n",
    "#\n",
    "lr_mse = mse(y_test, lr_pred,  squared=False)"
   ]
  },
  {
   "cell_type": "markdown",
   "id": "5a5cda9a",
   "metadata": {},
   "source": [
    "#### Decision Tree Regressor (DTR)"
   ]
  },
  {
   "cell_type": "code",
   "execution_count": null,
   "id": "3d95f640",
   "metadata": {},
   "outputs": [],
   "source": [
    "dtr = GridSearchCV(\n",
    "  estimator=DecisionTreeRegressor(), \n",
    "  param_grid={\n",
    "    'criterion': ['squared_error', 'friedman_mse', 'absolute_error'],\n",
    "    'splitter': ['best', 'random'],\n",
    "    'max_depth': [None, 2, 5, 10]\n",
    "  },\n",
    "  cv=10,\n",
    "  refit=True,\n",
    "  n_jobs=4,\n",
    "  scoring='neg_mean_squared_error'\n",
    ")\n",
    "\n",
    "dtr = timed_experiment(dtr, X_train, y_train)\n",
    "dtr_pred = dtr.predict(X_test)\n",
    "\n",
    "#\n",
    "dtr_mse = mse(y_test, dtr_pred,  squared=False)"
   ]
  },
  {
   "cell_type": "markdown",
   "id": "2c92da87",
   "metadata": {},
   "source": [
    "#### Support Vector Regression (SVR)"
   ]
  },
  {
   "cell_type": "code",
   "execution_count": null,
   "id": "da4bd809",
   "metadata": {},
   "outputs": [],
   "source": [
    "svr = GridSearchCV(\n",
    "  estimator=SVR(), \n",
    "  param_grid={\n",
    "    'gamma': ['auto', 'scale', 10^-3, 10^-1, 10, 10^3, 10^5],\n",
    "    'C': [1, 2, 3, 4, 5]\n",
    "  },\n",
    "  cv=10,\n",
    "  refit=True,\n",
    "  n_jobs=4,\n",
    "  scoring='neg_mean_squared_error'\n",
    ")\n",
    "\n",
    "svr = timed_experiment(svr, X_train, y_train)\n",
    "svr_pred = svr.predict(X_test)\n",
    "\n",
    "#\n",
    "svr_mse = mse(y_test, svr_pred,  squared=False)"
   ]
  },
  {
   "cell_type": "markdown",
   "id": "76243b07",
   "metadata": {},
   "source": [
    "### Resultados I"
   ]
  },
  {
   "cell_type": "code",
   "execution_count": null,
   "id": "a2476279",
   "metadata": {},
   "outputs": [],
   "source": [
    "print('Root Mean Squared Error')\n",
    "print('-'*40)\n",
    "print(f'LR:  {lr_mse:.2f}')\n",
    "print(f'DTR: {dtr_mse:.2f}')\n",
    "print(f'SVR: {svr_mse:.2f}')"
   ]
  },
  {
   "cell_type": "markdown",
   "id": "c85fdfb7",
   "metadata": {},
   "source": [
    "---\n",
    "\n",
    "### Undersampling\n",
    "\n",
    "#### Split"
   ]
  },
  {
   "cell_type": "code",
   "execution_count": null,
   "id": "00f8d283",
   "metadata": {},
   "outputs": [],
   "source": [
    "X_train, X_test, y_train, y_test = \\\n",
    "train_test_split(\n",
    "    np.hstack((X, y.reshape((y.size, 1)))), \n",
    "    pd.Categorical(df_['eletronicsModel']).codes, \n",
    "    test_size=0.3, random_state=42)\n",
    "\n",
    "print(f'Train X: {X_train.shape}, y: {y_train.shape}')\n",
    "print(f' Test X: {X_test.shape}, y: {y_test.shape}')"
   ]
  },
  {
   "cell_type": "markdown",
   "id": "6795adac",
   "metadata": {},
   "source": [
    "#### Undersampling"
   ]
  },
  {
   "cell_type": "code",
   "execution_count": null,
   "id": "6d7c3541",
   "metadata": {},
   "outputs": [],
   "source": [
    "rus = RandomUnderSampler(random_state=42)\n",
    "X_under, _ = rus.fit_resample(X_train, y_train_)"
   ]
  },
  {
   "cell_type": "code",
   "execution_count": null,
   "id": "463790e4",
   "metadata": {},
   "outputs": [],
   "source": [
    "# Removendo a coluna y original\n",
    "X_train = X_under[:, :-1]\n",
    "y_train = X_under[:, -1]\n",
    "\n",
    "# Removendo a coluna y original\n",
    "y_test = X_test[:, -1]\n",
    "X_test = X_test[:, :-1]"
   ]
  },
  {
   "cell_type": "markdown",
   "id": "8f8f552a",
   "metadata": {},
   "source": [
    "#### Linear Regression (LR)"
   ]
  },
  {
   "cell_type": "code",
   "execution_count": null,
   "id": "f8bb179a",
   "metadata": {},
   "outputs": [],
   "source": [
    "lr = LinearRegression() # Não paramétrico\n",
    "lr = timed_experiment(lr, X_train, y_train)\n",
    "lr_pred_under = lr.predict(X_test)\n",
    "\n",
    "#\n",
    "lr_mse_under = mse(y_test, lr_pred_under,  squared=False)"
   ]
  },
  {
   "cell_type": "markdown",
   "id": "ecbd79e6",
   "metadata": {},
   "source": [
    "#### Decision Tree Regressor (DTR)"
   ]
  },
  {
   "cell_type": "code",
   "execution_count": null,
   "id": "4d4e3a08",
   "metadata": {},
   "outputs": [],
   "source": [
    "dtr = GridSearchCV(\n",
    "  estimator=DecisionTreeRegressor(), \n",
    "  param_grid={\n",
    "    'criterion': ['squared_error', 'friedman_mse', 'absolute_error'],\n",
    "    'splitter': ['best', 'random'],\n",
    "    'max_depth': [None, 2, 5, 10]\n",
    "  },\n",
    "  cv=10,\n",
    "  refit=True,\n",
    "  n_jobs=4,\n",
    "  scoring='neg_mean_squared_error'\n",
    ")\n",
    "\n",
    "dtr = timed_experiment(dtr, X_train, y_train)\n",
    "dtr_pred_under = dtr.predict(X_test)\n",
    "\n",
    "#\n",
    "dtr_mse_under = mse(y_test, dtr_pred_under,  squared=False)"
   ]
  },
  {
   "cell_type": "markdown",
   "id": "68d333ea",
   "metadata": {},
   "source": [
    "#### Support Vector Regression (SVR)"
   ]
  },
  {
   "cell_type": "code",
   "execution_count": null,
   "id": "7abd54cb",
   "metadata": {
    "scrolled": true
   },
   "outputs": [],
   "source": [
    "svr = GridSearchCV(\n",
    "  estimator=SVR(), \n",
    "  param_grid={\n",
    "    'gamma': ['auto', 'scale', 10^-3, 10^-1, 10, 10^3, 10^5],\n",
    "    'C': [1, 2, 3, 4, 5]\n",
    "  },\n",
    "  cv=10,\n",
    "  refit=True,\n",
    "  n_jobs=4,\n",
    "  scoring='neg_mean_squared_error'\n",
    ")\n",
    "\n",
    "svr = timed_experiment(svr, X_train, y_train)\n",
    "svr_pred_under = svr.predict(X_test)\n",
    "\n",
    "#\n",
    "svr_mse_under = mse(y_test, svr_pred_under,  squared=False)"
   ]
  },
  {
   "cell_type": "markdown",
   "id": "84b47ef0",
   "metadata": {},
   "source": [
    "### Resultados II"
   ]
  },
  {
   "cell_type": "code",
   "execution_count": null,
   "id": "ab48831d",
   "metadata": {
    "scrolled": true
   },
   "outputs": [],
   "source": [
    "print('Root Mean Squared Error')\n",
    "print('-'*40)\n",
    "print(f'LR:  {lr_mse_under:.2f} ({lr_mse:.2f})')\n",
    "print(f'DTR: {dtr_mse_under:.2f} ({dtr_mse:.2f})')\n",
    "print(f'SVR: {svr_mse_under:.2f} ({svr_mse:.2f})')"
   ]
  },
  {
   "cell_type": "markdown",
   "id": "a47139c3",
   "metadata": {},
   "source": [
    "---\n",
    "\n",
    "### Oversampling\n",
    "\n",
    "#### Split"
   ]
  },
  {
   "cell_type": "code",
   "execution_count": null,
   "id": "a7876c49",
   "metadata": {},
   "outputs": [],
   "source": [
    "X_train, X_test, y_train, y_test = \\\n",
    "train_test_split(\n",
    "    np.hstack((X, y.reshape((y.size, 1)))), \n",
    "    pd.Categorical(df_['eletronicsModel']).codes, \n",
    "    test_size=0.3, random_state=42)\n",
    "\n",
    "print(f'Train X: {X_train.shape}, y: {y_train.shape}')\n",
    "print(f' Test X: {X_test.shape}, y: {y_test.shape}')"
   ]
  },
  {
   "cell_type": "markdown",
   "id": "7b03ecd8",
   "metadata": {},
   "source": [
    "#### Undersampling"
   ]
  },
  {
   "cell_type": "code",
   "execution_count": null,
   "id": "c10dc291",
   "metadata": {},
   "outputs": [],
   "source": [
    "ros = RandomOverSampler(sampling_strategy='minority')\n",
    "X_over, _ = ros.fit_resample(X_train, y_train_)"
   ]
  },
  {
   "cell_type": "code",
   "execution_count": null,
   "id": "b6298b1b",
   "metadata": {},
   "outputs": [],
   "source": [
    "# Removendo a coluna y original\n",
    "X_train = X_over[:, :-1]\n",
    "y_train = X_over[:, -1]\n",
    "\n",
    "# Removendo a coluna y original\n",
    "y_test = X_test[:, -1]\n",
    "X_test = X_test[:, :-1]"
   ]
  },
  {
   "cell_type": "markdown",
   "id": "f40b53c6",
   "metadata": {},
   "source": [
    "#### Linear Regression (LR)"
   ]
  },
  {
   "cell_type": "code",
   "execution_count": null,
   "id": "30ce0844",
   "metadata": {},
   "outputs": [],
   "source": [
    "lr = LinearRegression() # Não paramétrico\n",
    "lr = timed_experiment(lr, X_train, y_train)\n",
    "lr_pred_over = lr.predict(X_test)\n",
    "\n",
    "#\n",
    "lr_mse_over = mse(y_test, lr_pred_over,  squared=False)"
   ]
  },
  {
   "cell_type": "markdown",
   "id": "f9bd699c",
   "metadata": {},
   "source": [
    "#### Decision Tree Regressor (DTR)"
   ]
  },
  {
   "cell_type": "code",
   "execution_count": null,
   "id": "1785b7d7",
   "metadata": {},
   "outputs": [],
   "source": [
    "dtr = GridSearchCV(\n",
    "  estimator=DecisionTreeRegressor(), \n",
    "  param_grid={\n",
    "    'criterion': ['squared_error', 'friedman_mse', 'absolute_error'],\n",
    "    'splitter': ['best', 'random'],\n",
    "    'max_depth': [None, 2, 5, 10]\n",
    "  },\n",
    "  cv=10,\n",
    "  refit=True,\n",
    "  n_jobs=4,\n",
    "  scoring='neg_mean_squared_error'\n",
    ")\n",
    "\n",
    "dtr = timed_experiment(dtr, X_train, y_train)\n",
    "dtr_pred_over = dtr.predict(X_test)\n",
    "\n",
    "#\n",
    "dtr_mse_over = mse(y_test, dtr_pred_over,  squared=False)"
   ]
  },
  {
   "cell_type": "markdown",
   "id": "6775fb2f",
   "metadata": {},
   "source": [
    "#### Support Vector Regression (SVR)"
   ]
  },
  {
   "cell_type": "code",
   "execution_count": null,
   "id": "9a9c25c9",
   "metadata": {
    "scrolled": true
   },
   "outputs": [],
   "source": [
    "svr = GridSearchCV(\n",
    "  estimator=SVR(), \n",
    "  param_grid={\n",
    "    'gamma': ['auto', 'scale', 10^-3, 10^-1, 10, 10^3, 10^5],\n",
    "    'C': [1, 2, 3, 4, 5]\n",
    "  },\n",
    "  cv=10,\n",
    "  refit=True,\n",
    "  n_jobs=4,\n",
    "  scoring='neg_mean_squared_error'\n",
    ")\n",
    "\n",
    "svr = timed_experiment(svr, X_train, y_train)\n",
    "svr_pred_over = svr.predict(X_test)\n",
    "\n",
    "#\n",
    "svr_mse_over = mse(y_test, svr_pred_over,  squared=False)"
   ]
  },
  {
   "cell_type": "markdown",
   "id": "adc920d0",
   "metadata": {},
   "source": [
    "### Resultados III"
   ]
  },
  {
   "cell_type": "code",
   "execution_count": null,
   "id": "c164afe1",
   "metadata": {
    "scrolled": true
   },
   "outputs": [],
   "source": [
    "print('Root Mean Squared Error')\n",
    "print('-'*40)\n",
    "print(f'LR:  {lr_mse_over:.2f} ({lr_mse:.2f})')\n",
    "print(f'DTR: {dtr_mse_over:.2f} ({dtr_mse:.2f})')\n",
    "print(f'SVR: {svr_mse_over:.2f} ({svr_mse:.2f})')"
   ]
  },
  {
   "cell_type": "markdown",
   "id": "417496a1",
   "metadata": {},
   "source": [
    "---"
   ]
  },
  {
   "cell_type": "code",
   "execution_count": null,
   "id": "1544bba3",
   "metadata": {},
   "outputs": [],
   "source": [
    "table = [\n",
    "    [\"Algorithm\", \"Unbal.\",\"Under\",\"Over\"],\n",
    "    [\"Linear Regression\", f'{lr_mse:.2f}',  f'{lr_mse_under:.2f}',  f'{lr_mse_over:.2f}'],\n",
    "    [\"Decision Tree\", f'{dtr_mse:.2f}',  f'{dtr_mse_under:.2f}',  f'{dtr_mse_over:.2f}'],\n",
    "    [\"Support Vector\", f'{svr_mse:.2f}',  f'{svr_mse_under:.2f}',  f'{svr_mse_over:.2f}'],\n",
    "]\n",
    "\n",
    "print(tabulate(table, headers=\"firstrow\"))"
   ]
  }
 ],
 "metadata": {
  "kernelspec": {
   "display_name": "Python 3 (ipykernel)",
   "language": "python",
   "name": "python3"
  },
  "language_info": {
   "codemirror_mode": {
    "name": "ipython",
    "version": 3
   },
   "file_extension": ".py",
   "mimetype": "text/x-python",
   "name": "python",
   "nbconvert_exporter": "python",
   "pygments_lexer": "ipython3",
   "version": "3.8.10"
  }
 },
 "nbformat": 4,
 "nbformat_minor": 5
}
