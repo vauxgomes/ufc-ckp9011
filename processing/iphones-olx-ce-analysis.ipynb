{
 "cells": [
  {
   "cell_type": "markdown",
   "id": "d806c5d6",
   "metadata": {},
   "source": [
    "# Introdução a Ciência dos Dados - Atividade 2\n",
    "\n",
    "<span style=\"position: absolute; top: 10px; right: 10px; background: green; padding: 0.5em; color: white; border-radius: 0.25em; font-weight: bold\">Vaux Gomes</span>\n",
    "\n",
    "## Préprocessamento\n",
    "\n",
    "#### Bibliotecas"
   ]
  },
  {
   "cell_type": "code",
   "execution_count": 1,
   "id": "ed224e5d",
   "metadata": {
    "scrolled": true
   },
   "outputs": [],
   "source": [
    "# Imports\n",
    "import numpy as np\n",
    "import pandas as pd\n",
    "import matplotlib.pyplot as plt"
   ]
  },
  {
   "cell_type": "markdown",
   "id": "154138f5",
   "metadata": {},
   "source": [
    "#### Loading"
   ]
  },
  {
   "cell_type": "code",
   "execution_count": 2,
   "id": "b2716532",
   "metadata": {
    "scrolled": false
   },
   "outputs": [
    {
     "data": {
      "text/html": [
       "<div>\n",
       "<style scoped>\n",
       "    .dataframe tbody tr th:only-of-type {\n",
       "        vertical-align: middle;\n",
       "    }\n",
       "\n",
       "    .dataframe tbody tr th {\n",
       "        vertical-align: top;\n",
       "    }\n",
       "\n",
       "    .dataframe thead th {\n",
       "        text-align: right;\n",
       "    }\n",
       "</style>\n",
       "<table border=\"1\" class=\"dataframe\">\n",
       "  <thead>\n",
       "    <tr style=\"text-align: right;\">\n",
       "      <th></th>\n",
       "      <th>id</th>\n",
       "      <th>adDate</th>\n",
       "      <th>state</th>\n",
       "      <th>region</th>\n",
       "      <th>zipcode</th>\n",
       "      <th>areaCode</th>\n",
       "      <th>category</th>\n",
       "      <th>paidPromotion</th>\n",
       "      <th>subject</th>\n",
       "      <th>eletronicsBrand</th>\n",
       "      <th>eletronicsModel</th>\n",
       "      <th>storage</th>\n",
       "      <th>color</th>\n",
       "      <th>batteryHealth</th>\n",
       "      <th>eletronicsCondition</th>\n",
       "      <th>price</th>\n",
       "      <th>pictures</th>\n",
       "      <th>sellerName</th>\n",
       "      <th>url</th>\n",
       "    </tr>\n",
       "  </thead>\n",
       "  <tbody>\n",
       "    <tr>\n",
       "      <th>0</th>\n",
       "      <td>1.188658e+09</td>\n",
       "      <td>1.684963e+09</td>\n",
       "      <td>CE</td>\n",
       "      <td>Fortaleza</td>\n",
       "      <td>60135270</td>\n",
       "      <td>85</td>\n",
       "      <td>Celulares e telefonia</td>\n",
       "      <td>True</td>\n",
       "      <td>IPhone XR-256gb</td>\n",
       "      <td>APPLE</td>\n",
       "      <td>IPHONE XR</td>\n",
       "      <td>256GB</td>\n",
       "      <td>Preto</td>\n",
       "      <td>Boa (80% até 94%)</td>\n",
       "      <td>Usado - Excelente</td>\n",
       "      <td>2800.0</td>\n",
       "      <td>5.0</td>\n",
       "      <td>Daniel</td>\n",
       "      <td>https://ce.olx.com.br/fortaleza-e-regiao/celul...</td>\n",
       "    </tr>\n",
       "    <tr>\n",
       "      <th>1</th>\n",
       "      <td>1.187839e+09</td>\n",
       "      <td>1.684962e+09</td>\n",
       "      <td>CE</td>\n",
       "      <td>Fortaleza</td>\n",
       "      <td>60440180</td>\n",
       "      <td>85</td>\n",
       "      <td>Celulares e telefonia</td>\n",
       "      <td>True</td>\n",
       "      <td>Iphone 12 128gb muito conservado.</td>\n",
       "      <td>APPLE</td>\n",
       "      <td>IPHONE 12</td>\n",
       "      <td>128GB</td>\n",
       "      <td>Dourado</td>\n",
       "      <td>Boa (80% até 94%)</td>\n",
       "      <td>Usado - Excelente</td>\n",
       "      <td>3000.0</td>\n",
       "      <td>5.0</td>\n",
       "      <td>Emanuel</td>\n",
       "      <td>https://ce.olx.com.br/fortaleza-e-regiao/celul...</td>\n",
       "    </tr>\n",
       "    <tr>\n",
       "      <th>2</th>\n",
       "      <td>1.175826e+09</td>\n",
       "      <td>1.684962e+09</td>\n",
       "      <td>CE</td>\n",
       "      <td>Fortaleza</td>\n",
       "      <td>60810820</td>\n",
       "      <td>85</td>\n",
       "      <td>Celulares e telefonia</td>\n",
       "      <td>True</td>\n",
       "      <td>iPhone 11 128gb único dono com Nota Fiscal</td>\n",
       "      <td>APPLE</td>\n",
       "      <td>IPHONE 11</td>\n",
       "      <td>128GB</td>\n",
       "      <td>Preto</td>\n",
       "      <td>Boa (80% até 94%)</td>\n",
       "      <td>Usado - Excelente</td>\n",
       "      <td>2400.0</td>\n",
       "      <td>6.0</td>\n",
       "      <td>H Colares</td>\n",
       "      <td>https://ce.olx.com.br/fortaleza-e-regiao/celul...</td>\n",
       "    </tr>\n",
       "  </tbody>\n",
       "</table>\n",
       "</div>"
      ],
      "text/plain": [
       "             id        adDate state     region   zipcode  areaCode   \n",
       "0  1.188658e+09  1.684963e+09    CE  Fortaleza  60135270        85  \\\n",
       "1  1.187839e+09  1.684962e+09    CE  Fortaleza  60440180        85   \n",
       "2  1.175826e+09  1.684962e+09    CE  Fortaleza  60810820        85   \n",
       "\n",
       "                category  paidPromotion   \n",
       "0  Celulares e telefonia           True  \\\n",
       "1  Celulares e telefonia           True   \n",
       "2  Celulares e telefonia           True   \n",
       "\n",
       "                                      subject eletronicsBrand eletronicsModel   \n",
       "0                             IPhone XR-256gb           APPLE       IPHONE XR  \\\n",
       "1           Iphone 12 128gb muito conservado.           APPLE       IPHONE 12   \n",
       "2  iPhone 11 128gb único dono com Nota Fiscal           APPLE       IPHONE 11   \n",
       "\n",
       "  storage    color      batteryHealth eletronicsCondition   price  pictures   \n",
       "0   256GB    Preto  Boa (80% até 94%)   Usado - Excelente  2800.0       5.0  \\\n",
       "1   128GB  Dourado  Boa (80% até 94%)   Usado - Excelente  3000.0       5.0   \n",
       "2   128GB    Preto  Boa (80% até 94%)   Usado - Excelente  2400.0       6.0   \n",
       "\n",
       "  sellerName                                                url  \n",
       "0     Daniel  https://ce.olx.com.br/fortaleza-e-regiao/celul...  \n",
       "1    Emanuel  https://ce.olx.com.br/fortaleza-e-regiao/celul...  \n",
       "2  H Colares  https://ce.olx.com.br/fortaleza-e-regiao/celul...  "
      ]
     },
     "execution_count": 2,
     "metadata": {},
     "output_type": "execute_result"
    }
   ],
   "source": [
    "df = pd.read_csv('../data/iphone-olx-ce-raw.csv', index_col=0)\n",
    "df.head(3)"
   ]
  },
  {
   "cell_type": "code",
   "execution_count": 3,
   "id": "50ed9696",
   "metadata": {},
   "outputs": [
    {
     "data": {
      "text/plain": [
       "(1523, 19)"
      ]
     },
     "execution_count": 3,
     "metadata": {},
     "output_type": "execute_result"
    }
   ],
   "source": [
    "df.shape"
   ]
  },
  {
   "cell_type": "markdown",
   "id": "174a0a08",
   "metadata": {},
   "source": [
    "### Análise das colunas\n",
    "\n",
    "| #  | Coluna                | Descrição                             | #  | Coluna                | Descrição                             |\n",
    "| -- | --------------------- | ------------------------------------- | -- | --------------------- | ------------------------------------- |\n",
    "| 01 | **id**                  | Identificador do anúncio              | 11 | **eletronicsModel**     | Modelo do produto                     |\n",
    "| 02 | **adDate**              | Data do anúncio                       | 12 | **storage**             | Capacidade de armazenamento           |\n",
    "| 03 | **state**               | Estado (UF)                           | 13 | **color**               | Cor                                   |\n",
    "| 04 | **region**              | Macro Região                          | 14 | **batteryHealth**       | Saúde da bateria                      |\n",
    "| 05 | **zipcode**             | CEP                                   | 15 | **eletronicsCondition** | Condição do produto                   |\n",
    "| 06 | **areaCode**            | DDD                                   | 16 | **price**               | Preço                                 |\n",
    "| 07 | **category**            | Categoria do produto                  | 17 | **pictures**            | Número de fotos do anúncio            |\n",
    "| 08 | **paidPromotion**       | Y.N oferta paga                       | 18 | **sellerName**          | Nome do vendedor                      |\n",
    "| 09 | **subject**             | Título da oferta                      | 19 | **url**                 | URL da oferta (pode não existir mais) |\n",
    "| 10 | **eletronicsBrand**     | Marca do produto                      | -  | - |\n",
    "\n"
   ]
  },
  {
   "cell_type": "code",
   "execution_count": 4,
   "id": "0e3cbc8a",
   "metadata": {},
   "outputs": [
    {
     "name": "stdout",
     "output_type": "stream",
     "text": [
      "<class 'pandas.core.frame.DataFrame'>\n",
      "Index: 1523 entries, 0 to 1531\n",
      "Data columns (total 19 columns):\n",
      " #   Column               Non-Null Count  Dtype  \n",
      "---  ------               --------------  -----  \n",
      " 0   id                   1523 non-null   float64\n",
      " 1   adDate               1523 non-null   float64\n",
      " 2   state                1523 non-null   object \n",
      " 3   region               1523 non-null   object \n",
      " 4   zipcode              1523 non-null   int64  \n",
      " 5   areaCode             1523 non-null   int64  \n",
      " 6   category             1523 non-null   object \n",
      " 7   paidPromotion        1523 non-null   bool   \n",
      " 8   subject              1523 non-null   object \n",
      " 9   eletronicsBrand      1410 non-null   object \n",
      " 10  eletronicsModel      1410 non-null   object \n",
      " 11  storage              1355 non-null   object \n",
      " 12  color                1345 non-null   object \n",
      " 13  batteryHealth        1299 non-null   object \n",
      " 14  eletronicsCondition  1394 non-null   object \n",
      " 15  price                1514 non-null   float64\n",
      " 16  pictures             1523 non-null   float64\n",
      " 17  sellerName           1523 non-null   object \n",
      " 18  url                  1523 non-null   object \n",
      "dtypes: bool(1), float64(4), int64(2), object(12)\n",
      "memory usage: 227.6+ KB\n"
     ]
    }
   ],
   "source": [
    "df.info()"
   ]
  },
  {
   "cell_type": "markdown",
   "id": "89290e7f",
   "metadata": {},
   "source": [
    "### Melhorando representação"
   ]
  },
  {
   "cell_type": "code",
   "execution_count": 5,
   "id": "0e8d0b98",
   "metadata": {},
   "outputs": [
    {
     "data": {
      "text/html": [
       "<div>\n",
       "<style scoped>\n",
       "    .dataframe tbody tr th:only-of-type {\n",
       "        vertical-align: middle;\n",
       "    }\n",
       "\n",
       "    .dataframe tbody tr th {\n",
       "        vertical-align: top;\n",
       "    }\n",
       "\n",
       "    .dataframe thead th {\n",
       "        text-align: right;\n",
       "    }\n",
       "</style>\n",
       "<table border=\"1\" class=\"dataframe\">\n",
       "  <thead>\n",
       "    <tr style=\"text-align: right;\">\n",
       "      <th></th>\n",
       "      <th>id</th>\n",
       "      <th>adDate</th>\n",
       "      <th>state</th>\n",
       "      <th>region</th>\n",
       "      <th>zipcode</th>\n",
       "      <th>areaCode</th>\n",
       "      <th>category</th>\n",
       "      <th>paidPromotion</th>\n",
       "      <th>subject</th>\n",
       "      <th>eletronicsBrand</th>\n",
       "      <th>eletronicsModel</th>\n",
       "      <th>storage</th>\n",
       "      <th>color</th>\n",
       "      <th>batteryHealth</th>\n",
       "      <th>eletronicsCondition</th>\n",
       "      <th>price</th>\n",
       "      <th>pictures</th>\n",
       "      <th>sellerName</th>\n",
       "      <th>url</th>\n",
       "    </tr>\n",
       "  </thead>\n",
       "  <tbody>\n",
       "    <tr>\n",
       "      <th>count</th>\n",
       "      <td>1.523000e+03</td>\n",
       "      <td>1.523000e+03</td>\n",
       "      <td>1523</td>\n",
       "      <td>1523</td>\n",
       "      <td>1.523000e+03</td>\n",
       "      <td>1523.000000</td>\n",
       "      <td>1523</td>\n",
       "      <td>1523</td>\n",
       "      <td>1523</td>\n",
       "      <td>1410</td>\n",
       "      <td>1410</td>\n",
       "      <td>1355</td>\n",
       "      <td>1345</td>\n",
       "      <td>1299</td>\n",
       "      <td>1394</td>\n",
       "      <td>1.514000e+03</td>\n",
       "      <td>1523.000000</td>\n",
       "      <td>1523</td>\n",
       "      <td>1523</td>\n",
       "    </tr>\n",
       "    <tr>\n",
       "      <th>unique</th>\n",
       "      <td>NaN</td>\n",
       "      <td>NaN</td>\n",
       "      <td>1</td>\n",
       "      <td>36</td>\n",
       "      <td>NaN</td>\n",
       "      <td>NaN</td>\n",
       "      <td>17</td>\n",
       "      <td>2</td>\n",
       "      <td>1105</td>\n",
       "      <td>5</td>\n",
       "      <td>31</td>\n",
       "      <td>10</td>\n",
       "      <td>14</td>\n",
       "      <td>5</td>\n",
       "      <td>5</td>\n",
       "      <td>NaN</td>\n",
       "      <td>NaN</td>\n",
       "      <td>1206</td>\n",
       "      <td>1494</td>\n",
       "    </tr>\n",
       "    <tr>\n",
       "      <th>top</th>\n",
       "      <td>NaN</td>\n",
       "      <td>NaN</td>\n",
       "      <td>CE</td>\n",
       "      <td>Fortaleza</td>\n",
       "      <td>NaN</td>\n",
       "      <td>NaN</td>\n",
       "      <td>Celulares e telefonia</td>\n",
       "      <td>False</td>\n",
       "      <td>iPhone 8 Plus</td>\n",
       "      <td>APPLE</td>\n",
       "      <td>IPHONE 11</td>\n",
       "      <td>64GB</td>\n",
       "      <td>Preto</td>\n",
       "      <td>Boa (80% até 94%)</td>\n",
       "      <td>Usado - Excelente</td>\n",
       "      <td>NaN</td>\n",
       "      <td>NaN</td>\n",
       "      <td>KIOSKCELL</td>\n",
       "      <td>https://ce.olx.com.br/fortaleza-e-regiao/celul...</td>\n",
       "    </tr>\n",
       "    <tr>\n",
       "      <th>freq</th>\n",
       "      <td>NaN</td>\n",
       "      <td>NaN</td>\n",
       "      <td>1523</td>\n",
       "      <td>1211</td>\n",
       "      <td>NaN</td>\n",
       "      <td>NaN</td>\n",
       "      <td>1418</td>\n",
       "      <td>1482</td>\n",
       "      <td>26</td>\n",
       "      <td>1382</td>\n",
       "      <td>257</td>\n",
       "      <td>661</td>\n",
       "      <td>321</td>\n",
       "      <td>572</td>\n",
       "      <td>927</td>\n",
       "      <td>NaN</td>\n",
       "      <td>NaN</td>\n",
       "      <td>48</td>\n",
       "      <td>3</td>\n",
       "    </tr>\n",
       "    <tr>\n",
       "      <th>mean</th>\n",
       "      <td>1.186288e+09</td>\n",
       "      <td>1.684894e+09</td>\n",
       "      <td>NaN</td>\n",
       "      <td>NaN</td>\n",
       "      <td>6.080998e+07</td>\n",
       "      <td>85.128037</td>\n",
       "      <td>NaN</td>\n",
       "      <td>NaN</td>\n",
       "      <td>NaN</td>\n",
       "      <td>NaN</td>\n",
       "      <td>NaN</td>\n",
       "      <td>NaN</td>\n",
       "      <td>NaN</td>\n",
       "      <td>NaN</td>\n",
       "      <td>NaN</td>\n",
       "      <td>4.604759e+03</td>\n",
       "      <td>3.946159</td>\n",
       "      <td>NaN</td>\n",
       "      <td>NaN</td>\n",
       "    </tr>\n",
       "    <tr>\n",
       "      <th>std</th>\n",
       "      <td>9.694814e+06</td>\n",
       "      <td>5.335335e+04</td>\n",
       "      <td>NaN</td>\n",
       "      <td>NaN</td>\n",
       "      <td>7.451239e+05</td>\n",
       "      <td>0.606596</td>\n",
       "      <td>NaN</td>\n",
       "      <td>NaN</td>\n",
       "      <td>NaN</td>\n",
       "      <td>NaN</td>\n",
       "      <td>NaN</td>\n",
       "      <td>NaN</td>\n",
       "      <td>NaN</td>\n",
       "      <td>NaN</td>\n",
       "      <td>NaN</td>\n",
       "      <td>8.990715e+04</td>\n",
       "      <td>1.701353</td>\n",
       "      <td>NaN</td>\n",
       "      <td>NaN</td>\n",
       "    </tr>\n",
       "    <tr>\n",
       "      <th>min</th>\n",
       "      <td>8.774471e+08</td>\n",
       "      <td>1.684762e+09</td>\n",
       "      <td>NaN</td>\n",
       "      <td>NaN</td>\n",
       "      <td>6.000000e+07</td>\n",
       "      <td>85.000000</td>\n",
       "      <td>NaN</td>\n",
       "      <td>NaN</td>\n",
       "      <td>NaN</td>\n",
       "      <td>NaN</td>\n",
       "      <td>NaN</td>\n",
       "      <td>NaN</td>\n",
       "      <td>NaN</td>\n",
       "      <td>NaN</td>\n",
       "      <td>NaN</td>\n",
       "      <td>0.000000e+00</td>\n",
       "      <td>1.000000</td>\n",
       "      <td>NaN</td>\n",
       "      <td>NaN</td>\n",
       "    </tr>\n",
       "    <tr>\n",
       "      <th>25%</th>\n",
       "      <td>1.186037e+09</td>\n",
       "      <td>1.684860e+09</td>\n",
       "      <td>NaN</td>\n",
       "      <td>NaN</td>\n",
       "      <td>6.032282e+07</td>\n",
       "      <td>85.000000</td>\n",
       "      <td>NaN</td>\n",
       "      <td>NaN</td>\n",
       "      <td>NaN</td>\n",
       "      <td>NaN</td>\n",
       "      <td>NaN</td>\n",
       "      <td>NaN</td>\n",
       "      <td>NaN</td>\n",
       "      <td>NaN</td>\n",
       "      <td>NaN</td>\n",
       "      <td>1.100000e+03</td>\n",
       "      <td>2.000000</td>\n",
       "      <td>NaN</td>\n",
       "      <td>NaN</td>\n",
       "    </tr>\n",
       "    <tr>\n",
       "      <th>50%</th>\n",
       "      <td>1.188521e+09</td>\n",
       "      <td>1.684885e+09</td>\n",
       "      <td>NaN</td>\n",
       "      <td>NaN</td>\n",
       "      <td>6.054506e+07</td>\n",
       "      <td>85.000000</td>\n",
       "      <td>NaN</td>\n",
       "      <td>NaN</td>\n",
       "      <td>NaN</td>\n",
       "      <td>NaN</td>\n",
       "      <td>NaN</td>\n",
       "      <td>NaN</td>\n",
       "      <td>NaN</td>\n",
       "      <td>NaN</td>\n",
       "      <td>NaN</td>\n",
       "      <td>1.850000e+03</td>\n",
       "      <td>4.000000</td>\n",
       "      <td>NaN</td>\n",
       "      <td>NaN</td>\n",
       "    </tr>\n",
       "    <tr>\n",
       "      <th>75%</th>\n",
       "      <td>1.189170e+09</td>\n",
       "      <td>1.684944e+09</td>\n",
       "      <td>NaN</td>\n",
       "      <td>NaN</td>\n",
       "      <td>6.086222e+07</td>\n",
       "      <td>85.000000</td>\n",
       "      <td>NaN</td>\n",
       "      <td>NaN</td>\n",
       "      <td>NaN</td>\n",
       "      <td>NaN</td>\n",
       "      <td>NaN</td>\n",
       "      <td>NaN</td>\n",
       "      <td>NaN</td>\n",
       "      <td>NaN</td>\n",
       "      <td>NaN</td>\n",
       "      <td>3.000000e+03</td>\n",
       "      <td>6.000000</td>\n",
       "      <td>NaN</td>\n",
       "      <td>NaN</td>\n",
       "    </tr>\n",
       "    <tr>\n",
       "      <th>max</th>\n",
       "      <td>1.189676e+09</td>\n",
       "      <td>1.684971e+09</td>\n",
       "      <td>NaN</td>\n",
       "      <td>NaN</td>\n",
       "      <td>6.366000e+07</td>\n",
       "      <td>88.000000</td>\n",
       "      <td>NaN</td>\n",
       "      <td>NaN</td>\n",
       "      <td>NaN</td>\n",
       "      <td>NaN</td>\n",
       "      <td>NaN</td>\n",
       "      <td>NaN</td>\n",
       "      <td>NaN</td>\n",
       "      <td>NaN</td>\n",
       "      <td>NaN</td>\n",
       "      <td>3.500000e+06</td>\n",
       "      <td>6.000000</td>\n",
       "      <td>NaN</td>\n",
       "      <td>NaN</td>\n",
       "    </tr>\n",
       "  </tbody>\n",
       "</table>\n",
       "</div>"
      ],
      "text/plain": [
       "                  id        adDate state     region       zipcode   \n",
       "count   1.523000e+03  1.523000e+03  1523       1523  1.523000e+03  \\\n",
       "unique           NaN           NaN     1         36           NaN   \n",
       "top              NaN           NaN    CE  Fortaleza           NaN   \n",
       "freq             NaN           NaN  1523       1211           NaN   \n",
       "mean    1.186288e+09  1.684894e+09   NaN        NaN  6.080998e+07   \n",
       "std     9.694814e+06  5.335335e+04   NaN        NaN  7.451239e+05   \n",
       "min     8.774471e+08  1.684762e+09   NaN        NaN  6.000000e+07   \n",
       "25%     1.186037e+09  1.684860e+09   NaN        NaN  6.032282e+07   \n",
       "50%     1.188521e+09  1.684885e+09   NaN        NaN  6.054506e+07   \n",
       "75%     1.189170e+09  1.684944e+09   NaN        NaN  6.086222e+07   \n",
       "max     1.189676e+09  1.684971e+09   NaN        NaN  6.366000e+07   \n",
       "\n",
       "           areaCode               category paidPromotion         subject   \n",
       "count   1523.000000                   1523          1523            1523  \\\n",
       "unique          NaN                     17             2            1105   \n",
       "top             NaN  Celulares e telefonia         False  iPhone 8 Plus    \n",
       "freq            NaN                   1418          1482              26   \n",
       "mean      85.128037                    NaN           NaN             NaN   \n",
       "std        0.606596                    NaN           NaN             NaN   \n",
       "min       85.000000                    NaN           NaN             NaN   \n",
       "25%       85.000000                    NaN           NaN             NaN   \n",
       "50%       85.000000                    NaN           NaN             NaN   \n",
       "75%       85.000000                    NaN           NaN             NaN   \n",
       "max       88.000000                    NaN           NaN             NaN   \n",
       "\n",
       "       eletronicsBrand eletronicsModel storage  color      batteryHealth   \n",
       "count             1410            1410    1355   1345               1299  \\\n",
       "unique               5              31      10     14                  5   \n",
       "top              APPLE       IPHONE 11    64GB  Preto  Boa (80% até 94%)   \n",
       "freq              1382             257     661    321                572   \n",
       "mean               NaN             NaN     NaN    NaN                NaN   \n",
       "std                NaN             NaN     NaN    NaN                NaN   \n",
       "min                NaN             NaN     NaN    NaN                NaN   \n",
       "25%                NaN             NaN     NaN    NaN                NaN   \n",
       "50%                NaN             NaN     NaN    NaN                NaN   \n",
       "75%                NaN             NaN     NaN    NaN                NaN   \n",
       "max                NaN             NaN     NaN    NaN                NaN   \n",
       "\n",
       "       eletronicsCondition         price     pictures sellerName   \n",
       "count                 1394  1.514000e+03  1523.000000       1523  \\\n",
       "unique                   5           NaN          NaN       1206   \n",
       "top      Usado - Excelente           NaN          NaN  KIOSKCELL   \n",
       "freq                   927           NaN          NaN         48   \n",
       "mean                   NaN  4.604759e+03     3.946159        NaN   \n",
       "std                    NaN  8.990715e+04     1.701353        NaN   \n",
       "min                    NaN  0.000000e+00     1.000000        NaN   \n",
       "25%                    NaN  1.100000e+03     2.000000        NaN   \n",
       "50%                    NaN  1.850000e+03     4.000000        NaN   \n",
       "75%                    NaN  3.000000e+03     6.000000        NaN   \n",
       "max                    NaN  3.500000e+06     6.000000        NaN   \n",
       "\n",
       "                                                      url  \n",
       "count                                                1523  \n",
       "unique                                               1494  \n",
       "top     https://ce.olx.com.br/fortaleza-e-regiao/celul...  \n",
       "freq                                                    3  \n",
       "mean                                                  NaN  \n",
       "std                                                   NaN  \n",
       "min                                                   NaN  \n",
       "25%                                                   NaN  \n",
       "50%                                                   NaN  \n",
       "75%                                                   NaN  \n",
       "max                                                   NaN  "
      ]
     },
     "execution_count": 5,
     "metadata": {},
     "output_type": "execute_result"
    }
   ],
   "source": [
    "df.describe(include='all')"
   ]
  },
  {
   "cell_type": "code",
   "execution_count": 6,
   "id": "c42372a8",
   "metadata": {},
   "outputs": [],
   "source": [
    "# Removing non descriptive columns\n",
    "df.drop(columns=['id', 'url', 'state', 'eletronicsBrand'], inplace=True)"
   ]
  },
  {
   "cell_type": "markdown",
   "id": "61aecf01",
   "metadata": {},
   "source": [
    "#### Filtering by MODEL"
   ]
  },
  {
   "cell_type": "code",
   "execution_count": 7,
   "id": "c536fd7c",
   "metadata": {},
   "outputs": [
    {
     "data": {
      "text/plain": [
       "eletronicsModel\n",
       "IPHONE 11            257\n",
       "IPHONE XR            147\n",
       "IPHONE 8 PLUS        137\n",
       "IPHONE 7             101\n",
       "IPHONE 7 PLUS         96\n",
       "IPHONE 8              89\n",
       "IPHONE 12             70\n",
       "IPHONE 11 PRO MAX     57\n",
       "IPHONE 13 PRO MAX     53\n",
       "IPHONE X              49\n",
       "IPHONE 13             48\n",
       "OUTROS                41\n",
       "IPHONE 6S             36\n",
       "IPHONE 14 PRO MAX     34\n",
       "IPHONE 12 PRO MAX     34\n",
       "IPHONE XS MAX         25\n",
       "IPHONE 14             18\n",
       "IPHONE 11 PRO         16\n",
       "IPHONE XS             16\n",
       "IPHONE 12 PRO         15\n",
       "IPHONE 6              14\n",
       "IPHONE 14 PRO         11\n",
       "IPHONE 13 PRO         11\n",
       "IPHONE SE 2020         9\n",
       "IPHONE 14 PLUS         8\n",
       "IPHONE 12 MINI         7\n",
       "IPHONE 6S PLUS         6\n",
       "IPHONE 13 MINI         2\n",
       "GALAXY A12             1\n",
       "MOTO G7 PLAY           1\n",
       "MI NOTE 10             1\n",
       "Name: count, dtype: int64"
      ]
     },
     "execution_count": 7,
     "metadata": {},
     "output_type": "execute_result"
    }
   ],
   "source": [
    "df.eletronicsModel.value_counts()"
   ]
  },
  {
   "cell_type": "code",
   "execution_count": 8,
   "id": "2461cfd7",
   "metadata": {},
   "outputs": [
    {
     "data": {
      "text/plain": [
       "(1366, 15)"
      ]
     },
     "execution_count": 8,
     "metadata": {},
     "output_type": "execute_result"
    }
   ],
   "source": [
    "df = df[df.eletronicsModel.str.startswith('IPHONE', na=False)]\n",
    "df.shape"
   ]
  },
  {
   "cell_type": "markdown",
   "id": "0cbd5ffb",
   "metadata": {},
   "source": [
    "### Trantando valores NaN"
   ]
  },
  {
   "cell_type": "code",
   "execution_count": 9,
   "id": "fc2c7946",
   "metadata": {},
   "outputs": [
    {
     "name": "stdout",
     "output_type": "stream",
     "text": [
      "Colunas com NaN\n"
     ]
    },
    {
     "data": {
      "text/plain": [
       "adDate                 False\n",
       "region                 False\n",
       "zipcode                False\n",
       "areaCode               False\n",
       "category               False\n",
       "paidPromotion          False\n",
       "subject                False\n",
       "eletronicsModel        False\n",
       "storage                 True\n",
       "color                   True\n",
       "batteryHealth           True\n",
       "eletronicsCondition     True\n",
       "price                   True\n",
       "pictures               False\n",
       "sellerName             False\n",
       "dtype: bool"
      ]
     },
     "execution_count": 9,
     "metadata": {},
     "output_type": "execute_result"
    }
   ],
   "source": [
    "print(\"Colunas com NaN\")\n",
    "df.isna().any()"
   ]
  },
  {
   "cell_type": "markdown",
   "id": "ec430554",
   "metadata": {},
   "source": [
    "#### Storage"
   ]
  },
  {
   "cell_type": "code",
   "execution_count": 10,
   "id": "4d6c3df0",
   "metadata": {},
   "outputs": [],
   "source": [
    "# Removendo NaN\n",
    "df.dropna(subset=['storage'], inplace=True)\n",
    "\n",
    "# Removendo anúncios com MB (Apenas 2)\n",
    "df = df[~df.storage.str.endswith('MB')]"
   ]
  },
  {
   "cell_type": "code",
   "execution_count": 11,
   "id": "76282e3d",
   "metadata": {},
   "outputs": [
    {
     "data": {
      "text/plain": [
       "storageGB\n",
       "64      636\n",
       "128     407\n",
       "256     132\n",
       "32      100\n",
       "16       13\n",
       "512      12\n",
       "8         4\n",
       "4         2\n",
       "1024      1\n",
       "Name: count, dtype: int64"
      ]
     },
     "execution_count": 11,
     "metadata": {},
     "output_type": "execute_result"
    }
   ],
   "source": [
    "def parse_storage(x):\n",
    "    if x.storage.find('TB') > 0:\n",
    "        return int(x.storage.replace('TB', ''))*1024\n",
    "    else:\n",
    "        return int(x.storage.replace('GB', ''))\n",
    "    \n",
    "df['storageGB'] = df.apply(parse_storage, axis=1)\n",
    "\n",
    "df.storageGB.value_counts()"
   ]
  },
  {
   "cell_type": "markdown",
   "id": "58b6ce46",
   "metadata": {},
   "source": [
    "#### Color"
   ]
  },
  {
   "cell_type": "code",
   "execution_count": 12,
   "id": "40e04c81",
   "metadata": {},
   "outputs": [
    {
     "name": "stdout",
     "output_type": "stream",
     "text": [
      "Anúncios sem cor definida (Null): 37\n",
      "Anúncios sem cor definida (Outras): 40\n"
     ]
    }
   ],
   "source": [
    "# Normalização dos textos dos anúncios (remoção de acentos)\n",
    "df.subject = df.subject.str.normalize('NFKD').str.encode('ascii',errors='ignore').str.decode('utf-8')\n",
    "\n",
    "# Alguns anúcios não tem a cor definida, então podemos buscar no título do anúncio \n",
    "print('Anúncios sem cor definida (Null):', df.color.isnull().sum())\n",
    "print('Anúncios sem cor definida (Outras):', (df.color == 'Outra').sum())"
   ]
  },
  {
   "cell_type": "code",
   "execution_count": 13,
   "id": "238d6b75",
   "metadata": {},
   "outputs": [
    {
     "name": "stdout",
     "output_type": "stream",
     "text": [
      "Anúncios ainda sem cor: 34\n",
      "Anúncios ainda com 'Outra': 37\n"
     ]
    }
   ],
   "source": [
    "def get_color_from_subject(x):\n",
    "    # Cores encontradas nos anúncios e seus devidos equivalentes\n",
    "    cores = {\n",
    "        'lilas':    'Roxo', \n",
    "        'red':      'Vermelho',\n",
    "        'vermelho': 'Vermelho',\n",
    "        'rose':     'Rosa',\n",
    "        'branco':   'Branco',\n",
    "        'roxo':     'Roxo', \n",
    "        'preto':    'Preto',\n",
    "        'gold':     'Dourado'\n",
    "    }\n",
    "    \n",
    "    for c in cores:\n",
    "        if c in x.subject:\n",
    "            return cores[c]\n",
    "        \n",
    "    return x.color\n",
    "\n",
    "df['color'] = df.apply(get_color_from_subject, axis=1)\n",
    "print('Anúncios ainda sem cor:', df.color.isnull().sum())\n",
    "print('Anúncios ainda com \\'Outra\\':', (df.color == 'Outra').sum())"
   ]
  },
  {
   "cell_type": "code",
   "execution_count": 14,
   "id": "89905ab4",
   "metadata": {
    "scrolled": false
   },
   "outputs": [
    {
     "data": {
      "text/plain": [
       "(1273, 16)"
      ]
     },
     "execution_count": 14,
     "metadata": {},
     "output_type": "execute_result"
    }
   ],
   "source": [
    "# Removendo NaNs\n",
    "df.dropna(subset=['color'], inplace=True)\n",
    "df.shape"
   ]
  },
  {
   "cell_type": "markdown",
   "id": "517de682",
   "metadata": {},
   "source": [
    "#### Price"
   ]
  },
  {
   "cell_type": "code",
   "execution_count": 15,
   "id": "87f684c9",
   "metadata": {},
   "outputs": [
    {
     "data": {
      "text/plain": [
       "(1269, 16)"
      ]
     },
     "execution_count": 15,
     "metadata": {},
     "output_type": "execute_result"
    }
   ],
   "source": [
    "df.dropna(subset=['price'], inplace=True)\n",
    "df.shape"
   ]
  },
  {
   "cell_type": "markdown",
   "id": "c0ab7026",
   "metadata": {},
   "source": [
    "#### eletronicsCondition"
   ]
  },
  {
   "cell_type": "code",
   "execution_count": 16,
   "id": "9ba31c8a",
   "metadata": {},
   "outputs": [
    {
     "data": {
      "text/plain": [
       "(1262, 16)"
      ]
     },
     "execution_count": 16,
     "metadata": {},
     "output_type": "execute_result"
    }
   ],
   "source": [
    "df.dropna(subset=['eletronicsCondition'], inplace=True)\n",
    "df.shape"
   ]
  },
  {
   "cell_type": "markdown",
   "id": "2d309718",
   "metadata": {},
   "source": [
    "#### batteryHealth"
   ]
  },
  {
   "cell_type": "code",
   "execution_count": 17,
   "id": "0843c1ab",
   "metadata": {},
   "outputs": [
    {
     "data": {
      "text/plain": [
       "(1198, 16)"
      ]
     },
     "execution_count": 17,
     "metadata": {},
     "output_type": "execute_result"
    }
   ],
   "source": [
    "df.dropna(subset=['batteryHealth'], inplace=True)\n",
    "df.shape"
   ]
  },
  {
   "cell_type": "markdown",
   "id": "07fe78d0",
   "metadata": {},
   "source": [
    "### Tamanho do título"
   ]
  },
  {
   "cell_type": "code",
   "execution_count": 18,
   "id": "c66a32e6",
   "metadata": {},
   "outputs": [],
   "source": [
    "df['subjectLength'] = df.subject.apply(lambda x: len(x))"
   ]
  },
  {
   "cell_type": "markdown",
   "id": "adae3927",
   "metadata": {},
   "source": [
    "### Colunas categóricas"
   ]
  },
  {
   "cell_type": "code",
   "execution_count": 19,
   "id": "aacc8a91",
   "metadata": {},
   "outputs": [],
   "source": [
    "columns = ['region', 'areaCode', 'eletronicsModel', 'storage', 'color', 'batteryHealth', 'eletronicsCondition']\n",
    "df[columns] = df[columns].astype('category')"
   ]
  },
  {
   "cell_type": "code",
   "execution_count": 20,
   "id": "696fd734",
   "metadata": {},
   "outputs": [
    {
     "data": {
      "text/plain": [
       "adDate                 False\n",
       "region                 False\n",
       "zipcode                False\n",
       "areaCode               False\n",
       "category               False\n",
       "paidPromotion          False\n",
       "subject                False\n",
       "eletronicsModel        False\n",
       "storage                False\n",
       "color                  False\n",
       "batteryHealth          False\n",
       "eletronicsCondition    False\n",
       "price                  False\n",
       "pictures               False\n",
       "sellerName             False\n",
       "storageGB              False\n",
       "subjectLength          False\n",
       "dtype: bool"
      ]
     },
     "execution_count": 20,
     "metadata": {},
     "output_type": "execute_result"
    }
   ],
   "source": [
    "df.isna().any()"
   ]
  },
  {
   "cell_type": "markdown",
   "id": "436d4050",
   "metadata": {},
   "source": [
    "### Saving"
   ]
  },
  {
   "cell_type": "code",
   "execution_count": 21,
   "id": "73c32c47",
   "metadata": {},
   "outputs": [],
   "source": [
    "df.to_csv('../data/iphone-olx-ce.csv')"
   ]
  }
 ],
 "metadata": {
  "kernelspec": {
   "display_name": "Python 3 (ipykernel)",
   "language": "python",
   "name": "python3"
  },
  "language_info": {
   "codemirror_mode": {
    "name": "ipython",
    "version": 3
   },
   "file_extension": ".py",
   "mimetype": "text/x-python",
   "name": "python",
   "nbconvert_exporter": "python",
   "pygments_lexer": "ipython3",
   "version": "3.8.10"
  }
 },
 "nbformat": 4,
 "nbformat_minor": 5
}
