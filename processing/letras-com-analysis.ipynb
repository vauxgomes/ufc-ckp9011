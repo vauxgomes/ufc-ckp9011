{
 "cells": [
  {
   "cell_type": "markdown",
   "id": "d806c5d6",
   "metadata": {},
   "source": [
    "# Introdução a Ciência dos Dados - Atividade 2\n",
    "\n",
    "<span style=\"position: absolute; top: 10px; right: 10px; background: green; padding: 0.5em; color: white; border-radius: 0.25em; font-weight: bold\">Vaux Gomes</span>\n",
    "\n",
    "## Análise inicial\n",
    "\n",
    "#### Bibliotecas"
   ]
  },
  {
   "cell_type": "code",
   "execution_count": 2,
   "id": "ed224e5d",
   "metadata": {},
   "outputs": [],
   "source": [
    "# Imports\n",
    "import numpy as np\n",
    "import pandas as pd"
   ]
  },
  {
   "cell_type": "markdown",
   "id": "154138f5",
   "metadata": {},
   "source": [
    "#### Loading"
   ]
  },
  {
   "cell_type": "code",
   "execution_count": 3,
   "id": "b2716532",
   "metadata": {
    "scrolled": true
   },
   "outputs": [
    {
     "data": {
      "text/html": [
       "<div>\n",
       "<style scoped>\n",
       "    .dataframe tbody tr th:only-of-type {\n",
       "        vertical-align: middle;\n",
       "    }\n",
       "\n",
       "    .dataframe tbody tr th {\n",
       "        vertical-align: top;\n",
       "    }\n",
       "\n",
       "    .dataframe thead th {\n",
       "        text-align: right;\n",
       "    }\n",
       "</style>\n",
       "<table border=\"1\" class=\"dataframe\">\n",
       "  <thead>\n",
       "    <tr style=\"text-align: right;\">\n",
       "      <th></th>\n",
       "      <th>rank</th>\n",
       "      <th>singer</th>\n",
       "      <th>title</th>\n",
       "      <th>url</th>\n",
       "      <th>album</th>\n",
       "      <th>genre</th>\n",
       "      <th>lang</th>\n",
       "      <th>views</th>\n",
       "      <th>lyrics</th>\n",
       "    </tr>\n",
       "  </thead>\n",
       "  <tbody>\n",
       "    <tr>\n",
       "      <th>0</th>\n",
       "      <td>1</td>\n",
       "      <td>Anuel AA</td>\n",
       "      <td>Mejor Que Yo (part. DJ Luian y Mambo Kingz) [e...</td>\n",
       "      <td>https://www.letras.com/anuel/mejor-que-yo-part...</td>\n",
       "      <td>NaN</td>\n",
       "      <td>reggaeton</td>\n",
       "      <td>es</td>\n",
       "      <td>114305.0</td>\n",
       "      <td>(Real hasta la muerte, baby) (Real hasta la mu...</td>\n",
       "    </tr>\n",
       "    <tr>\n",
       "      <th>1</th>\n",
       "      <td>2</td>\n",
       "      <td>Grupo Frontera</td>\n",
       "      <td>un x100to (part. Bad Bunny)</td>\n",
       "      <td>https://www.letras.com/grupo-frontera/un-x100t...</td>\n",
       "      <td>NaN</td>\n",
       "      <td>regional</td>\n",
       "      <td>es</td>\n",
       "      <td>296023.0</td>\n",
       "      <td>Me queda un porciento Y lo usaré solo para dec...</td>\n",
       "    </tr>\n",
       "    <tr>\n",
       "      <th>2</th>\n",
       "      <td>3</td>\n",
       "      <td>FIFTY FIFTY</td>\n",
       "      <td>Cupid (Twin Version)</td>\n",
       "      <td>https://www.letras.com/fifty-fifty/cupid-twin-...</td>\n",
       "      <td>The Beginning: Cupid</td>\n",
       "      <td>k-pop</td>\n",
       "      <td>en</td>\n",
       "      <td>76579.0</td>\n",
       "      <td>A hopeless romantic all my life Surrounded by ...</td>\n",
       "    </tr>\n",
       "    <tr>\n",
       "      <th>3</th>\n",
       "      <td>4</td>\n",
       "      <td>Eslabon Armado</td>\n",
       "      <td>Ella Baila Sola (part. Peso Pluma)</td>\n",
       "      <td>https://www.letras.com/eslabon-armado/ella-bai...</td>\n",
       "      <td>Ella Baila Sola</td>\n",
       "      <td>regional</td>\n",
       "      <td>es</td>\n",
       "      <td>137514.0</td>\n",
       "      <td>Compa, ¿qué le parece esa morra? La que anda b...</td>\n",
       "    </tr>\n",
       "    <tr>\n",
       "      <th>4</th>\n",
       "      <td>5</td>\n",
       "      <td>Montesanto</td>\n",
       "      <td>Santo Es El Que Vive</td>\n",
       "      <td>https://www.letras.com/montesanto/santo-es-el-...</td>\n",
       "      <td>NaN</td>\n",
       "      <td>gospelreligioso</td>\n",
       "      <td>es</td>\n",
       "      <td>37635.0</td>\n",
       "      <td>Santo es el que vive, santo es el que reina Sa...</td>\n",
       "    </tr>\n",
       "  </tbody>\n",
       "</table>\n",
       "</div>"
      ],
      "text/plain": [
       "   rank          singer                                              title   \n",
       "0     1        Anuel AA  Mejor Que Yo (part. DJ Luian y Mambo Kingz) [e...  \\\n",
       "1     2  Grupo Frontera                        un x100to (part. Bad Bunny)   \n",
       "2     3     FIFTY FIFTY                               Cupid (Twin Version)   \n",
       "3     4  Eslabon Armado                 Ella Baila Sola (part. Peso Pluma)   \n",
       "4     5      Montesanto                               Santo Es El Que Vive   \n",
       "\n",
       "                                                 url                 album   \n",
       "0  https://www.letras.com/anuel/mejor-que-yo-part...                   NaN  \\\n",
       "1  https://www.letras.com/grupo-frontera/un-x100t...                   NaN   \n",
       "2  https://www.letras.com/fifty-fifty/cupid-twin-...  The Beginning: Cupid   \n",
       "3  https://www.letras.com/eslabon-armado/ella-bai...       Ella Baila Sola   \n",
       "4  https://www.letras.com/montesanto/santo-es-el-...                   NaN   \n",
       "\n",
       "             genre lang     views   \n",
       "0        reggaeton   es  114305.0  \\\n",
       "1         regional   es  296023.0   \n",
       "2            k-pop   en   76579.0   \n",
       "3         regional   es  137514.0   \n",
       "4  gospelreligioso   es   37635.0   \n",
       "\n",
       "                                              lyrics  \n",
       "0  (Real hasta la muerte, baby) (Real hasta la mu...  \n",
       "1  Me queda un porciento Y lo usaré solo para dec...  \n",
       "2  A hopeless romantic all my life Surrounded by ...  \n",
       "3  Compa, ¿qué le parece esa morra? La que anda b...  \n",
       "4  Santo es el que vive, santo es el que reina Sa...  "
      ]
     },
     "execution_count": 3,
     "metadata": {},
     "output_type": "execute_result"
    }
   ],
   "source": [
    "df = pd.read_csv('../data/letras-com.csv', index_col=0)\n",
    "df.head()"
   ]
  },
  {
   "cell_type": "code",
   "execution_count": 9,
   "id": "aafebbd7",
   "metadata": {},
   "outputs": [
    {
     "name": "stdout",
     "output_type": "stream",
     "text": [
      "<class 'pandas.core.frame.DataFrame'>\n",
      "Index: 1000 entries, 0 to 999\n",
      "Data columns (total 9 columns):\n",
      " #   Column  Non-Null Count  Dtype  \n",
      "---  ------  --------------  -----  \n",
      " 0   rank    1000 non-null   int64  \n",
      " 1   singer  1000 non-null   object \n",
      " 2   title   1000 non-null   object \n",
      " 3   url     1000 non-null   object \n",
      " 4   album   571 non-null    object \n",
      " 5   genre   923 non-null    object \n",
      " 6   lang    999 non-null    object \n",
      " 7   views   999 non-null    float64\n",
      " 8   lyrics  999 non-null    object \n",
      "dtypes: float64(1), int64(1), object(7)\n",
      "memory usage: 78.1+ KB\n"
     ]
    },
    {
     "ename": "AttributeError",
     "evalue": "'NoneType' object has no attribute 'hist'",
     "output_type": "error",
     "traceback": [
      "\u001b[0;31m---------------------------------------------------------------------------\u001b[0m",
      "\u001b[0;31mAttributeError\u001b[0m                            Traceback (most recent call last)",
      "Input \u001b[0;32mIn [9]\u001b[0m, in \u001b[0;36m<cell line: 1>\u001b[0;34m()\u001b[0m\n\u001b[0;32m----> 1\u001b[0m \u001b[43mdf\u001b[49m\u001b[38;5;241;43m.\u001b[39;49m\u001b[43minfo\u001b[49m\u001b[43m(\u001b[49m\u001b[43m)\u001b[49m\u001b[38;5;241;43m.\u001b[39;49m\u001b[43mhist\u001b[49m()\n",
      "\u001b[0;31mAttributeError\u001b[0m: 'NoneType' object has no attribute 'hist'"
     ]
    }
   ],
   "source": [
    "df.info().hist()"
   ]
  },
  {
   "cell_type": "code",
   "execution_count": 7,
   "id": "e40ff77d",
   "metadata": {},
   "outputs": [
    {
     "data": {
      "text/plain": [
       "<Axes: >"
      ]
     },
     "execution_count": 7,
     "metadata": {},
     "output_type": "execute_result"
    },
    {
     "data": {
      "image/png": "[encoded data removed]",
      "text/plain": [
       "<Figure size 720x360 with 1 Axes>"
      ]
     },
     "metadata": {
      "needs_background": "light"
     },
     "output_type": "display_data"
    }
   ],
   "source": [
    "df.lang.hist(figsize=(10, 5))"
   ]
  }
 ],
 "metadata": {
  "kernelspec": {
   "display_name": "Python 3 (ipykernel)",
   "language": "python",
   "name": "python3"
  },
  "language_info": {
   "codemirror_mode": {
    "name": "ipython",
    "version": 3
   },
   "file_extension": ".py",
   "mimetype": "text/x-python",
   "name": "python",
   "nbconvert_exporter": "python",
   "pygments_lexer": "ipython3",
   "version": "3.8.10"
  }
 },
 "nbformat": 4,
 "nbformat_minor": 5
}
