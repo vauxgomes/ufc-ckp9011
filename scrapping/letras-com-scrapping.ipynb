{
 "cells": [
  {
   "cell_type": "markdown",
   "id": "d806c5d6",
   "metadata": {},
   "source": [
    "# Introdução a Ciência dos Dados - Atividade 1\n",
    "\n",
    "\n",
    "## Sumário\n",
    "\n",
    "- [Scrapping](#Scrapping)\n",
    "- [ChatGPT](#ChatGPT)\n",
    "\n",
    "<span style=\"position: absolute; top: 10px; right: 10px; background: green; padding: 0.5em; color: white; border-radius: 0.25em; font-weight: bold\">Vaux Gomes</span>\n",
    "\n",
    "## Scrapping\n",
    "\n",
    "#### Objetivo\n",
    "\n",
    "Baixando as top 1000 músicas mais acessadas do [Letras.com](https://www.letras.com/mais-acessadas/)\n",
    "\n",
    "#### Bibliotecas"
   ]
  },
  {
   "cell_type": "code",
   "execution_count": 29,
   "id": "ed224e5d",
   "metadata": {},
   "outputs": [],
   "source": [
    "# Imports\n",
    "from bs4 import BeautifulSoup\n",
    "from urllib.request import urlopen\n",
    "\n",
    "import numpy as np\n",
    "import pandas as pd\n",
    "import json\n",
    "\n",
    "# python3 -m pip install beautifulsoup4"
   ]
  },
  {
   "cell_type": "markdown",
   "id": "154138f5",
   "metadata": {},
   "source": [
    "#### Capturando as músicas acessadas"
   ]
  },
  {
   "cell_type": "code",
   "execution_count": 14,
   "id": "1c0ae462",
   "metadata": {},
   "outputs": [
    {
     "name": "stdout",
     "output_type": "stream",
     "text": [
      "Total de músicas: 1000\n"
     ]
    }
   ],
   "source": [
    "# Constants\n",
    "OVERWRITE = False\n",
    "MAXSONGS = 15\n",
    "\n",
    "#\n",
    "base_url = 'https://www.letras.com'\n",
    "most_accessed = base_url + '/mais-acessadas/'\n",
    "\n",
    "#\n",
    "page = urlopen(most_accessed)\n",
    "html = page.read().decode(\"utf-8\")\n",
    "soup = BeautifulSoup(html, \"html.parser\")\n",
    "\n",
    "#\n",
    "top_musics = soup.find_all(\"ol\", {\"class\": \"top-list_mus\"})[0].find_all('li')\n",
    "\n",
    "#\n",
    "print(f'Total de músicas: {len(top_musics)}')"
   ]
  },
  {
   "cell_type": "code",
   "execution_count": 3,
   "id": "92787c8b",
   "metadata": {
    "scrolled": true
   },
   "outputs": [
    {
     "data": {
      "text/plain": [
       "[{'rank': 1,\n",
       "  'singer': 'Anuel AA',\n",
       "  'title': 'Mejor Que Yo (part. DJ Luian y Mambo Kingz) [explícita]',\n",
       "  'url': 'https://www.letras.com/anuel/mejor-que-yo-part-dj-luian-y-mambo-kingz/'},\n",
       " {'rank': 2,\n",
       "  'singer': 'Grupo Frontera',\n",
       "  'title': 'un x100to (part. Bad Bunny)',\n",
       "  'url': 'https://www.letras.com/grupo-frontera/un-x100to-part-bad-bunny/'},\n",
       " {'rank': 3,\n",
       "  'singer': 'FIFTY FIFTY',\n",
       "  'title': 'Cupid (Twin Version)',\n",
       "  'url': 'https://www.letras.com/fifty-fifty/cupid-twin-version/'}]"
      ]
     },
     "execution_count": 3,
     "metadata": {},
     "output_type": "execute_result"
    }
   ],
   "source": [
    "songs = []\n",
    "\n",
    "for rank, item in enumerate(top_musics):\n",
    "    songs.append({\n",
    "        'rank': rank + 1,\n",
    "        'singer': item.a.span.get_text(),\n",
    "        'title': item.a.b.get_text(),\n",
    "        'url': f'{base_url}{item.a[\"href\"]}'\n",
    "    })\n",
    "\n",
    "# Head\n",
    "songs[:3]"
   ]
  },
  {
   "cell_type": "markdown",
   "id": "8e6a9760",
   "metadata": {},
   "source": [
    "### Informações Secundárias\n",
    "\n",
    "<span style=\"\n",
    "    position: absolute;\n",
    "    top: 20px;\n",
    "    right: 10px;\n",
    "    background: black;\n",
    "    padding: 0.5em;\n",
    "    border-radius: 0.25em;\n",
    "    font-size: 14px;\n",
    "    color: white;\n",
    " \">Demorado</span>"
   ]
  },
  {
   "cell_type": "code",
   "execution_count": 15,
   "id": "0b4563cc",
   "metadata": {},
   "outputs": [
    {
     "name": "stdout",
     "output_type": "stream",
     "text": [
      "ERROR: 560 - Blue Spring\n",
      "1000 of 1000"
     ]
    }
   ],
   "source": [
    "for i, song in enumerate(songs[:MAXSONGS]): # Update this limitation do -1\n",
    "    try:\n",
    "        # Loading\n",
    "        page = urlopen(song['url'])\n",
    "        html = page.read().decode(\"utf-8\")\n",
    "        soup = BeautifulSoup(html, \"html.parser\")\n",
    "        \n",
    "        # Data from script tag\n",
    "        script = soup.find('script', {'id': 'head_scripts_vars'})\n",
    "        text = script.text.split('\\n')[4].strip()\n",
    "        data = json.loads(text[text.find('{'):text.rfind('}') + 1])\n",
    "        \n",
    "        ##\n",
    "        song['album'] = data['album_name'] if 'album_name' in data else ''\n",
    "        song['genre'] = data['genre'] if 'genre' in data else ''\n",
    "        song['lang'] = data['lyric_lang'] if 'lyric_lang' in data else ''\n",
    "\n",
    "        # Genre (OLD)\n",
    "        # song['genre'] = soup.find('div', {'id': 'breadcrumb'}) \\\n",
    "        #    .find_all('span', {'itemprop': 'name'})[1].get_text()\n",
    "        \n",
    "        # Views\n",
    "        song['views'] = soup.find('div', {'class': 'cnt-info_exib'}) \\\n",
    "            .b.get_text().replace('.', '').strip()\n",
    "        \n",
    "        # Lyrics\n",
    "        lyrics = soup.find('div', {'class': 'cnt-letra'})\n",
    "        \n",
    "        # -- Removing BR\n",
    "        for br in lyrics.find_all('br'):\n",
    "            br.replace_with(' ')\n",
    "        \n",
    "        # -- Adding space between P\n",
    "        for p in lyrics.find_all('p'):\n",
    "            p.replace_with(' ' + p.get_text())\n",
    "            \n",
    "        song['lyrics'] = lyrics.get_text().strip()\n",
    "        \n",
    "        #\n",
    "        print(f'\\r{i+1} of {len(songs)}', end='')\n",
    "        \n",
    "    except:\n",
    "        print(f'\\rERROR: {song[\"rank\"]} - {song[\"title\"]}')"
   ]
  },
  {
   "cell_type": "markdown",
   "id": "ef397b36",
   "metadata": {},
   "source": [
    "### Salvando"
   ]
  },
  {
   "cell_type": "code",
   "execution_count": 24,
   "id": "3df08b2c",
   "metadata": {},
   "outputs": [],
   "source": [
    "# Converting\n",
    "df = pd.DataFrame(songs)\n",
    "\n",
    "# Parsing\n",
    "df['views'] = pd.to_numeric(df['views'])\n",
    "\n",
    "# Saving\n",
    "if OVERWRITE:\n",
    "    df.to_csv('../data/letras-com.csv')"
   ]
  },
  {
   "cell_type": "markdown",
   "id": "318cf1c6",
   "metadata": {},
   "source": [
    "---\n",
    "\n",
    "## ChatGPT\n",
    "\n",
    "[↑ Topo](#Sumário)\n",
    "\n",
    "#### Objetivo\n",
    "\n",
    "Utilizar o ChatGPT para criação de algumas _features_.\n",
    "\n",
    "- **Atenção** Quando for usar, você deve Criar a variável de ambiente `OPENAI_KEY`\n",
    "\n",
    "#### Loading"
   ]
  },
  {
   "cell_type": "code",
   "execution_count": 27,
   "id": "b2716532",
   "metadata": {},
   "outputs": [
    {
     "data": {
      "text/html": [
       "<div>\n",
       "<style scoped>\n",
       "    .dataframe tbody tr th:only-of-type {\n",
       "        vertical-align: middle;\n",
       "    }\n",
       "\n",
       "    .dataframe tbody tr th {\n",
       "        vertical-align: top;\n",
       "    }\n",
       "\n",
       "    .dataframe thead th {\n",
       "        text-align: right;\n",
       "    }\n",
       "</style>\n",
       "<table border=\"1\" class=\"dataframe\">\n",
       "  <thead>\n",
       "    <tr style=\"text-align: right;\">\n",
       "      <th></th>\n",
       "      <th>rank</th>\n",
       "      <th>singer</th>\n",
       "      <th>title</th>\n",
       "      <th>url</th>\n",
       "      <th>album</th>\n",
       "      <th>genre</th>\n",
       "      <th>lang</th>\n",
       "      <th>views</th>\n",
       "      <th>lyrics</th>\n",
       "    </tr>\n",
       "  </thead>\n",
       "  <tbody>\n",
       "    <tr>\n",
       "      <th>0</th>\n",
       "      <td>1</td>\n",
       "      <td>Anuel AA</td>\n",
       "      <td>Mejor Que Yo (part. DJ Luian y Mambo Kingz) [e...</td>\n",
       "      <td>https://www.letras.com/anuel/mejor-que-yo-part...</td>\n",
       "      <td>NaN</td>\n",
       "      <td>reggaeton</td>\n",
       "      <td>es</td>\n",
       "      <td>114305.0</td>\n",
       "      <td>(Real hasta la muerte, baby) (Real hasta la mu...</td>\n",
       "    </tr>\n",
       "    <tr>\n",
       "      <th>1</th>\n",
       "      <td>2</td>\n",
       "      <td>Grupo Frontera</td>\n",
       "      <td>un x100to (part. Bad Bunny)</td>\n",
       "      <td>https://www.letras.com/grupo-frontera/un-x100t...</td>\n",
       "      <td>NaN</td>\n",
       "      <td>regional</td>\n",
       "      <td>es</td>\n",
       "      <td>296023.0</td>\n",
       "      <td>Me queda un porciento Y lo usaré solo para dec...</td>\n",
       "    </tr>\n",
       "    <tr>\n",
       "      <th>2</th>\n",
       "      <td>3</td>\n",
       "      <td>FIFTY FIFTY</td>\n",
       "      <td>Cupid (Twin Version)</td>\n",
       "      <td>https://www.letras.com/fifty-fifty/cupid-twin-...</td>\n",
       "      <td>The Beginning: Cupid</td>\n",
       "      <td>k-pop</td>\n",
       "      <td>en</td>\n",
       "      <td>76579.0</td>\n",
       "      <td>A hopeless romantic all my life Surrounded by ...</td>\n",
       "    </tr>\n",
       "    <tr>\n",
       "      <th>3</th>\n",
       "      <td>4</td>\n",
       "      <td>Eslabon Armado</td>\n",
       "      <td>Ella Baila Sola (part. Peso Pluma)</td>\n",
       "      <td>https://www.letras.com/eslabon-armado/ella-bai...</td>\n",
       "      <td>Ella Baila Sola</td>\n",
       "      <td>regional</td>\n",
       "      <td>es</td>\n",
       "      <td>137514.0</td>\n",
       "      <td>Compa, ¿qué le parece esa morra? La que anda b...</td>\n",
       "    </tr>\n",
       "    <tr>\n",
       "      <th>4</th>\n",
       "      <td>5</td>\n",
       "      <td>Montesanto</td>\n",
       "      <td>Santo Es El Que Vive</td>\n",
       "      <td>https://www.letras.com/montesanto/santo-es-el-...</td>\n",
       "      <td>NaN</td>\n",
       "      <td>gospelreligioso</td>\n",
       "      <td>es</td>\n",
       "      <td>37635.0</td>\n",
       "      <td>Santo es el que vive, santo es el que reina Sa...</td>\n",
       "    </tr>\n",
       "  </tbody>\n",
       "</table>\n",
       "</div>"
      ],
      "text/plain": [
       "   rank          singer                                              title   \n",
       "0     1        Anuel AA  Mejor Que Yo (part. DJ Luian y Mambo Kingz) [e...  \\\n",
       "1     2  Grupo Frontera                        un x100to (part. Bad Bunny)   \n",
       "2     3     FIFTY FIFTY                               Cupid (Twin Version)   \n",
       "3     4  Eslabon Armado                 Ella Baila Sola (part. Peso Pluma)   \n",
       "4     5      Montesanto                               Santo Es El Que Vive   \n",
       "\n",
       "                                                 url                 album   \n",
       "0  https://www.letras.com/anuel/mejor-que-yo-part...                   NaN  \\\n",
       "1  https://www.letras.com/grupo-frontera/un-x100t...                   NaN   \n",
       "2  https://www.letras.com/fifty-fifty/cupid-twin-...  The Beginning: Cupid   \n",
       "3  https://www.letras.com/eslabon-armado/ella-bai...       Ella Baila Sola   \n",
       "4  https://www.letras.com/montesanto/santo-es-el-...                   NaN   \n",
       "\n",
       "             genre lang     views   \n",
       "0        reggaeton   es  114305.0  \\\n",
       "1         regional   es  296023.0   \n",
       "2            k-pop   en   76579.0   \n",
       "3         regional   es  137514.0   \n",
       "4  gospelreligioso   es   37635.0   \n",
       "\n",
       "                                              lyrics  \n",
       "0  (Real hasta la muerte, baby) (Real hasta la mu...  \n",
       "1  Me queda un porciento Y lo usaré solo para dec...  \n",
       "2  A hopeless romantic all my life Surrounded by ...  \n",
       "3  Compa, ¿qué le parece esa morra? La que anda b...  \n",
       "4  Santo es el que vive, santo es el que reina Sa...  "
      ]
     },
     "execution_count": 27,
     "metadata": {},
     "output_type": "execute_result"
    }
   ],
   "source": [
    "df = pd.read_csv('../data/letras-com.csv', index_col=0)\n",
    "df.head()"
   ]
  },
  {
   "cell_type": "markdown",
   "id": "d0baaabc",
   "metadata": {},
   "source": [
    "#### Bibliotecas"
   ]
  },
  {
   "cell_type": "code",
   "execution_count": 28,
   "id": "68f9c103",
   "metadata": {},
   "outputs": [],
   "source": [
    "import os\n",
    "import openai\n",
    "import time\n",
    "\n",
    "# python3 -m pip install openai"
   ]
  },
  {
   "cell_type": "code",
   "execution_count": null,
   "id": "eceafe06",
   "metadata": {},
   "outputs": [],
   "source": [
    "# Authentication\n",
    "openai.api_key = os.environ.get('OPENAI_KEY')\n",
    "\n",
    "# Config\n",
    "model = \"text-davinci-002\"\n",
    "temperature = 0.5                    # Creativity level \n",
    "max_tokens = 50                      # Max answer length"
   ]
  },
  {
   "cell_type": "markdown",
   "id": "ab3ed3f9",
   "metadata": {},
   "source": [
    "---\n",
    "**Exemplo de prompt**\n",
    "\n",
    "```py\n",
    "prompt = \"Olá, como você está?\"\n",
    "\n",
    "# Envie a solicitação de geração de texto para o ChatGPT\n",
    "response = openai.Completion.create(\n",
    "    engine=model,\n",
    "    prompt=prompt,\n",
    "    temperature=temperature,\n",
    "    max_tokens=max_tokens,\n",
    ")\n",
    "\n",
    "# Obtenha o texto gerado pelo ChatGPT a partir da resposta\n",
    "generated_text = response.choices[0].text\n",
    "\n",
    "print(generated_text)\n",
    "```\n",
    "---"
   ]
  },
  {
   "cell_type": "markdown",
   "id": "7fe90486",
   "metadata": {},
   "source": [
    "#### Sentimentos das letras\n",
    "\n",
    "O objetivo é criar três colunas com o sentimento principal e secundários e terciário de cada letra na visão do ChatGPT\n",
    "\n",
    "> **ATENÇÃO** Existe um limite máximo de 60 requests por minuto. Então a rotina inclui um comando de _sleep_\n",
    "\n",
    "<span style=\"\n",
    "    position: absolute;\n",
    "    top: 20px;\n",
    "    right: 10px;\n",
    "    background: black;\n",
    "    padding: 0.5em;\n",
    "    border-radius: 0.25em;\n",
    "    font-size: 14px;\n",
    "    color: white;\n",
    " \">Demorado</span>"
   ]
  },
  {
   "cell_type": "code",
   "execution_count": null,
   "id": "230e206e",
   "metadata": {},
   "outputs": [],
   "source": [
    "# Cleaning\n",
    "sentiments = []"
   ]
  },
  {
   "cell_type": "code",
   "execution_count": null,
   "id": "c5c89d49",
   "metadata": {},
   "outputs": [],
   "source": [
    "# Prompts\n",
    "for i in range(df.shape[0]):\n",
    "    prompt = f'Qual é o tom emocional da seguinte letra de música \"{df.lyrics[i]}\"? Descreva com três palavras separadas por vírgula'\n",
    "    \n",
    "    response = openai.Completion.create(\n",
    "        engine=model,\n",
    "        prompt=prompt,\n",
    "        temperature=temperature,\n",
    "        max_tokens=max_tokens,\n",
    "    )\n",
    "\n",
    "    sentiments.append(response.choices[0].text)\n",
    "    \n",
    "    # Sleep for avoiding request rate limitations\n",
    "    if i != 0 and i % 30 == 0:\n",
    "        time.sleep(2)\n",
    "        \n",
    "    #\n",
    "    print(f'\\r{i+1} of {df.shape[0]}', end='')"
   ]
  }
 ],
 "metadata": {
  "kernelspec": {
   "display_name": "Python 3 (ipykernel)",
   "language": "python",
   "name": "python3"
  },
  "language_info": {
   "codemirror_mode": {
    "name": "ipython",
    "version": 3
   },
   "file_extension": ".py",
   "mimetype": "text/x-python",
   "name": "python",
   "nbconvert_exporter": "python",
   "pygments_lexer": "ipython3",
   "version": "3.8.10"
  }
 },
 "nbformat": 4,
 "nbformat_minor": 5
}
